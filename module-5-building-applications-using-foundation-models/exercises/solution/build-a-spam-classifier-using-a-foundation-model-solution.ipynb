{
 "cells": [
  {
   "cell_type": "markdown",
   "metadata": {},
   "source": [
    "# Exercise: Build A Spam Classifier Using A Foundation Model\n",
    "\n",
    "A foundation model serves as a fundamental building block for potentially endless applications. One application we will explore in this exercise is the development of a spam classifier using only prompting. By leveraging the capabilities of a foundation model, this project aims to accurately identify and filter out unwanted and potentially harmful messages.\n",
    "\n",
    "## Steps\n",
    "\n",
    "1. Identify and gather relevant data\n",
    "2. Build and evaluate the spam classifier\n",
    "3. Build an improved classifier?"
   ]
  },
  {
   "cell_type": "code",
   "execution_count": null,
   "metadata": {},
   "outputs": [
    {
     "ename": "",
     "evalue": "",
     "output_type": "error",
     "traceback": [
      "\u001b[1;31mRunning cells with 'genai-nd-c1 (Python 3.13.0)' requires the ipykernel package.\n",
      "\u001b[1;31mInstall 'ipykernel' into the Python environment. \n",
      "\u001b[1;31mCommand: '\"/Users/briancruz/rhymeswithlion-github/udacity genai nd c1 project refresh 2025/.venv/bin/python\" -m pip install ipykernel -U --force-reinstall'"
     ]
    }
   ],
   "source": [
    "# Student Task: Set up the OpenAI API key and base URL from environment variables\n",
    "# TODO: If using Vocareum, set the API key directly in the code below\n",
    "\n",
    "import litellm\n",
    "import os\n",
    "\n",
    "if os.getenv(\"OPENAI_API_KEY\"):\n",
    "    litellm.openai_key = os.getenv(\"OPENAI_API_KEY\")\n",
    "\n",
    "# If using Vocareum, you can also set your API key here directly\n",
    "# Uncomment and replace the string with your actual Vocareum API key\n",
    "# litellm.openai_key = \"voc-**********\"\n",
    "\n",
    "if (litellm.openai_key or \"\").startswith(\"voc-\"):\n",
    "    litellm.api_base = \"https://openai.vocareum.com/v1\"\n",
    "    print(\"Using Vocareum OpenAI API base URL\")"
   ]
  },
  {
   "cell_type": "markdown",
   "metadata": {},
   "source": [
    "## Step 1: Identify and gather relevant data\n",
    "\n",
    "To train and test the spam classifier, you will need a dataset of messages that are labeled as spam or not spam. It is important to identify and gather a suitable dataset that represents a wide range of spam and non-spam messages."
   ]
  },
  {
   "cell_type": "code",
   "execution_count": 2,
   "metadata": {},
   "outputs": [
    {
     "name": "stdout",
     "output_type": "stream",
     "text": [
      "label=0, sms=Go until jurong point, crazy.. Available only in bugis n great world la e buffet... Cine there got amore wat...\n",
      "\n",
      "label=0, sms=Ok lar... Joking wif u oni...\n",
      "\n",
      "label=1, sms=Free entry in 2 a wkly comp to win FA Cup final tkts 21st May 2005. Text FA to 87121 to receive entry question(std txt rate)T&C's apply 08452810075over18's\n",
      "\n"
     ]
    }
   ],
   "source": [
    "# Load the sms_spam dataset using the datasets library\n",
    "# No changes needed in this cell\n",
    "\n",
    "from datasets import load_dataset\n",
    "\n",
    "dataset = load_dataset(\"sms_spam\", split=[\"train\"])[0]\n",
    "\n",
    "for entry in dataset.select(range(3)):\n",
    "    sms = entry[\"sms\"]\n",
    "    label = entry[\"label\"]\n",
    "    print(f\"label={label}, sms={sms}\")"
   ]
  },
  {
   "cell_type": "markdown",
   "metadata": {},
   "source": [
    "Those labels could be easier to read. Let's create some functions to convert numerical ids to labels."
   ]
  },
  {
   "cell_type": "code",
   "execution_count": 3,
   "metadata": {},
   "outputs": [
    {
     "name": "stdout",
     "output_type": "stream",
     "text": [
      "label=NOT SPAM, sms=Go until jurong point, crazy.. Available only in bugis n great world la e buffet... Cine there got amore wat...\n",
      "\n",
      "label=NOT SPAM, sms=Ok lar... Joking wif u oni...\n",
      "\n",
      "label=SPAM, sms=Free entry in 2 a wkly comp to win FA Cup final tkts 21st May 2005. Text FA to 87121 to receive entry question(std txt rate)T&C's apply 08452810075over18's\n",
      "\n"
     ]
    }
   ],
   "source": [
    "# Let's map the numeric labels to human-readable labels\n",
    "# No changes needed in this cell\n",
    "\n",
    "id2label = {0: \"NOT SPAM\", 1: \"SPAM\"}\n",
    "label2id = {\"NOT SPAM\": 0, \"SPAM\": 1}\n",
    "\n",
    "for entry in dataset.select(range(3)):\n",
    "    sms = entry[\"sms\"]\n",
    "    label_id = entry[\"label\"]\n",
    "    print(f\"label={id2label[label_id]}, sms={sms}\")"
   ]
  },
  {
   "cell_type": "markdown",
   "metadata": {},
   "source": [
    "## Step 2: Build and evaluate the spam email classifier\n",
    "\n",
    "Using the foundation model and the prepared dataset, you can create a spam email classifier.\n",
    "\n",
    "Let's write a prompt that will ask the model to classify 15 message as either \"spam\" or \"not spam\". For easier parsing, we can ask the LLM to respond in JSON."
   ]
  },
  {
   "cell_type": "code",
   "execution_count": 4,
   "metadata": {},
   "outputs": [
    {
     "name": "stdout",
     "output_type": "stream",
     "text": [
      "0 -> Go until jurong point, crazy.. Available only in bugis n great world la e buffet... Cine there got amore wat...\n",
      "\n",
      "1 -> Ok lar... Joking wif u oni...\n",
      "\n",
      "2 -> Free entry in 2 a wkly comp to win FA Cup final tkts 21st May 2005. Text FA to 87121 to receive entry question(std txt rate)T&C's apply 08452810075over18's\n",
      "\n",
      "\n"
     ]
    }
   ],
   "source": [
    "# Create a helper function to get multiple sms messages as a single string\n",
    "# No changes needed in this cell\n",
    "\n",
    "\n",
    "def get_sms_messages_string(dataset, item_numbers):\n",
    "    sms_messages_string = \"\"\n",
    "    for item_number, entry in zip(item_numbers, dataset.select(item_numbers)):\n",
    "        sms = entry[\"sms\"]\n",
    "        label_id = entry[\"label\"]\n",
    "\n",
    "        sms_messages_string += f\"{item_number} -> {sms}\\n\"\n",
    "\n",
    "    return sms_messages_string\n",
    "\n",
    "\n",
    "print(get_sms_messages_string(dataset, [0, 1, 2]))"
   ]
  },
  {
   "cell_type": "markdown",
   "metadata": {},
   "source": [
    "Now let's write a bit of code that will produce your prompt. Your prompt should include a few SMS message to be labelled as well as instructions for the LLM.\n",
    "\n",
    "Some LLMs will also format the output for you as JSON if you ask them, e.g. \"Respond in JSON format.\""
   ]
  },
  {
   "cell_type": "code",
   "execution_count": 5,
   "metadata": {},
   "outputs": [
    {
     "name": "stdout",
     "output_type": "stream",
     "text": [
      "SYSTEM PROMPT:\n",
      "You are a helpful assistant that classifies text messages as SPAM or NOT SPAM.\n",
      "\n",
      "    You will receive a list of text messages, each with a unique identifier.\n",
      "\n",
      "    Respond only with JSON. Do not include any other text, preamble, or explanation.\n",
      "\n",
      "    EXAMPLE INPUT:\n",
      "    11 -> ...\n",
      "    16 -> ...\n",
      "    23 -> ...\n",
      "\n",
      "    EXAMPLE OUTPUT:\n",
      "    {\n",
      "        \"11\": \"NOT SPAM\",\n",
      "        \"16\": \"SPAM\",\n",
      "        \"23\": \"NOT SPAM\"\n",
      "    }\n",
      "    \n",
      "\n",
      "USER PROMPT:\n",
      "7 -> As per your request 'Melle Melle (Oru Minnaminunginte Nurungu Vettam)' has been set as your callertune for all Callers. Press *9 to copy your friends Callertune\n",
      "\n",
      "8 -> WINNER!! As a valued network customer you have been selected to receivea £900 prize reward! To claim call 09061701461. Claim code KL341. Valid 12 hours only.\n",
      "\n",
      "9 -> Had your mobile 11 months or more? U R entitled to Update to the latest colour mobiles with camera for Free! Call The Mobile Update Co FREE on 08002986030\n",
      "\n",
      "10 -> I'm gonna be home soon and i don't want to talk about this stuff anymore tonight, k? I've cried enough today.\n",
      "\n",
      "11 -> SIX chances to win CASH! From 100 to 20,000 pounds txt> CSH11 and send to 87575. Cost 150p/day, 6days, 16+ TsandCs apply Reply HL 4 info\n",
      "\n",
      "12 -> URGENT! You have won a 1 week FREE membership in our £100,000 Prize Jackpot! Txt the word: CLAIM to No: 81010 T&C www.dbuk.net LCCLTD POBOX 4403LDNW1A7RW18\n",
      "\n",
      "13 -> I've been searching for the right words to thank you for this breather. I promise i wont take your help for granted and will fulfil my promise. You have been wonderful and a blessing at all times.\n",
      "\n",
      "14 -> I HAVE A DATE ON SUNDAY WITH WILL!!\n",
      "\n",
      "\n"
     ]
    }
   ],
   "source": [
    "# Student task: Construct a query that includes `sms_messages_string` and asks the LLM\n",
    "# to classify the messages as SPAM or NOT SPAM, responding in JSON format.\n",
    "# TODO: Fill in the missing parts marked with **********\n",
    "\n",
    "# Get a few messages and format them as a string\n",
    "sms_messages_string = get_sms_messages_string(dataset, range(7, 15))\n",
    "\n",
    "# The input should be of the form\n",
    "# 11 -> ...\n",
    "# 16 -> ...\n",
    "# 23 -> ...\n",
    "\n",
    "# The output should be of the form\n",
    "# {\n",
    "#     \"11\": \"NOT SPAM\",\n",
    "#     \"16\": \"SPAM\",\n",
    "#     \"23\": \"NOT SPAM\"\n",
    "# }\n",
    "\n",
    "SYSTEM_PROMPT = \"\"\"**********\"\"\"\n",
    "USER_PROMPT = sms_messages_string\n",
    "\n",
    "# <<< START SOLUTION SECTION\n",
    "\n",
    "SYSTEM_PROMPT = \"\"\"You are a helpful assistant that classifies text messages as SPAM or NOT SPAM.\n",
    "\n",
    "    You will receive a list of text messages, each with a unique identifier.\n",
    "\n",
    "    Respond only with JSON. Do not include any other text, preamble, or explanation.\n",
    "\n",
    "    EXAMPLE INPUT:\n",
    "    11 -> ...\n",
    "    16 -> ...\n",
    "    23 -> ...\n",
    "\n",
    "    EXAMPLE OUTPUT:\n",
    "    {\n",
    "        \"11\": \"NOT SPAM\",\n",
    "        \"16\": \"SPAM\",\n",
    "        \"23\": \"NOT SPAM\"\n",
    "    }\n",
    "    \"\"\"\n",
    "\n",
    "# >>> END SOLUTION SECTION\n",
    "\n",
    "print(\"SYSTEM PROMPT:\")\n",
    "print(SYSTEM_PROMPT)\n",
    "print(\"\\nUSER PROMPT:\")\n",
    "print(USER_PROMPT)\n"
   ]
  },
  {
   "cell_type": "code",
   "execution_count": 6,
   "metadata": {},
   "outputs": [
    {
     "name": "stdout",
     "output_type": "stream",
     "text": [
      "{\n",
      "  \"7\": \"SPAM\",\n",
      "  \"8\": \"SPAM\",\n",
      "  \"9\": \"SPAM\",\n",
      "  \"10\": \"NOT SPAM\",\n",
      "  \"11\": \"SPAM\",\n",
      "  \"12\": \"SPAM\",\n",
      "  \"13\": \"NOT SPAM\",\n",
      "  \"14\": \"NOT SPAM\"\n",
      "}\n",
      "Response is valid JSON\n"
     ]
    }
   ],
   "source": [
    "# Use litellm to get the response\n",
    "# No changes needed in this cell\n",
    "\n",
    "from litellm import completion\n",
    "\n",
    "response = completion(\n",
    "    model=\"gpt-5-nano\",\n",
    "    messages=[\n",
    "        {\"role\": \"system\", \"content\": SYSTEM_PROMPT},\n",
    "        {\"role\": \"user\", \"content\": USER_PROMPT},\n",
    "    ],\n",
    ")\n",
    "response = response.choices[0].message.content\n",
    "print(response)\n",
    "\n",
    "# Check that response is in valid JSON format\n",
    "try:\n",
    "    import json\n",
    "\n",
    "    json.loads(response)\n",
    "    print(\"Response is valid JSON\")\n",
    "except json.JSONDecodeError:\n",
    "    print(\"Response is not valid JSON\")\n"
   ]
  },
  {
   "cell_type": "code",
   "execution_count": 7,
   "metadata": {},
   "outputs": [
    {
     "name": "stdout",
     "output_type": "stream",
     "text": [
      "Mismatch for entry 7: predicted=SPAM, actual=NOT SPAM\n",
      "Accuracy: 0.88\n"
     ]
    }
   ],
   "source": [
    "# Write a function that estimates the accuracy of your classifier\n",
    "# by comparing your responses to the labels in the dataset\n",
    "# No changes needed in this cell\n",
    "\n",
    "\n",
    "def get_accuracy(response, dataset, original_indices):\n",
    "    correct = 0\n",
    "    total = 0\n",
    "\n",
    "    if isinstance(response, str):\n",
    "        import json\n",
    "\n",
    "        try:\n",
    "            response = json.loads(response)\n",
    "        except json.JSONDecodeError as e:\n",
    "            print(\"Error decoding JSON response:\", e)\n",
    "            return\n",
    "\n",
    "    for entry_number, prediction in response.items():\n",
    "        if int(entry_number) not in original_indices:\n",
    "            continue\n",
    "\n",
    "        label_id = dataset[int(entry_number)][\"label\"]\n",
    "        label = id2label[label_id]\n",
    "\n",
    "        # If the prediction from the LLM matches the label in the dataset\n",
    "        # we increment the number of correct predictions.\n",
    "        # (Since LLMs do not always produce the same output, we use the\n",
    "        # lower case version of the strings for comparison)\n",
    "        if prediction.lower() == label.lower():\n",
    "            correct += 1\n",
    "        else:\n",
    "            print(\n",
    "                f\"Mismatch for entry {entry_number}: predicted={prediction}, actual={label}\"\n",
    "            )\n",
    "\n",
    "        # increment the total number of predictions\n",
    "        total += 1\n",
    "\n",
    "    try:\n",
    "        accuracy = correct / total\n",
    "    except ZeroDivisionError:\n",
    "        print(\"No matching results found!\")\n",
    "        return\n",
    "\n",
    "    return round(accuracy, 2)\n",
    "\n",
    "\n",
    "print(f\"Accuracy: {get_accuracy(response, dataset, range(7, 15))}\")"
   ]
  },
  {
   "cell_type": "markdown",
   "metadata": {},
   "source": [
    "That's not bad! (Or if it got them all, even better!)\n",
    "\n",
    "It might not be correct for every example we throw at it, but it's a great start, especially for not giving it any examples or training data.\n",
    "\n",
    "We can see that the model is able to distinguish between spam and non-spam messages with a high degree of accuracy. This is a great example of how a foundation model can be used to build a spam email classifier."
   ]
  },
  {
   "cell_type": "markdown",
   "metadata": {},
   "source": [
    "## Step 3: Build an improved classifier?\n",
    "\n",
    "If you provide the LLM with some examples for how to complete a task, it will sometimes improve its performance. Let's try that out here."
   ]
  },
  {
   "cell_type": "code",
   "execution_count": 8,
   "metadata": {},
   "outputs": [
    {
     "name": "stdout",
     "output_type": "stream",
     "text": [
      "EXAMPLE INPUT:\n",
      "54 -> SMS. ac Sptv: The New Jersey Devils and the Detroit Red Wings play Ice Hockey. Correct or Incorrect? End? Reply END SPTV\n",
      "\n",
      "55 -> Do you know what Mallika Sherawat did yesterday? Find out now @  &lt;URL&gt;\n",
      "\n",
      "56 -> Congrats! 1 year special cinema pass for 2 is yours. call 09061209465 now! C Suprman V, Matrix3, StarWars3, etc all 4 FREE! bx420-ip4-5we. 150pm. Dont miss out! \n",
      "\n",
      "57 -> Sorry, I'll call later in meeting.\n",
      "\n",
      "58 -> Tell where you reached\n",
      "\n",
      "59 -> Yes..gauti and sehwag out of odi series.\n",
      "\n",
      "EXAMPLE OUTPUT:\n",
      "{\n",
      "    \"54\": \"SPAM\",\n",
      "    \"55\": \"NOT SPAM\",\n",
      "    \"56\": \"SPAM\",\n",
      "    \"57\": \"NOT SPAM\",\n",
      "    \"58\": \"NOT SPAM\",\n",
      "    \"59\": \"NOT SPAM\",\n",
      "}\n",
      "\n"
     ]
    }
   ],
   "source": [
    "# Create a helper function to get a few-shot examples string\n",
    "# No changes needed in this cell\n",
    "\n",
    "\n",
    "def get_few_shot_examples_string(dataset, item_numbers):\n",
    "    examples_string = \"\"\n",
    "\n",
    "    examples_string += \"EXAMPLE INPUT:\\n\"\n",
    "    for item_number, entry in zip(item_numbers, dataset.select(item_numbers)):\n",
    "        sms = entry[\"sms\"]\n",
    "\n",
    "        examples_string += f\"{item_number} -> {sms}\\n\"\n",
    "\n",
    "    examples_string += \"EXAMPLE OUTPUT:\\n\"\n",
    "    examples_string += \"{\\n\"\n",
    "    for item_number, entry in zip(item_numbers, dataset.select(item_numbers)):\n",
    "        label_id = entry[\"label\"]\n",
    "        label = id2label[label_id]\n",
    "        examples_string += f'    \"{item_number}\": \"{label}\",\\n'\n",
    "    examples_string += \"}\\n\"\n",
    "\n",
    "    return examples_string\n",
    "\n",
    "\n",
    "print(get_few_shot_examples_string(dataset, range(54, 60)))"
   ]
  },
  {
   "cell_type": "code",
   "execution_count": 9,
   "metadata": {},
   "outputs": [
    {
     "name": "stdout",
     "output_type": "stream",
     "text": [
      "SYSTEM_PROMPT:\n",
      "You are a helpful assistant that classifies text messages as SPAM or NOT SPAM.\n",
      "\n",
      "    You will receive a list of text messages, each with a unique identifier.\n",
      "\n",
      "    Respond only with JSON. Do not include any other text, preamble, or explanation.\n",
      "\n",
      "EXAMPLE INPUT:\n",
      "54 -> SMS. ac Sptv: The New Jersey Devils and the Detroit Red Wings play Ice Hockey. Correct or Incorrect? End? Reply END SPTV\n",
      "\n",
      "55 -> Do you know what Mallika Sherawat did yesterday? Find out now @  &lt;URL&gt;\n",
      "\n",
      "56 -> Congrats! 1 year special cinema pass for 2 is yours. call 09061209465 now! C Suprman V, Matrix3, StarWars3, etc all 4 FREE! bx420-ip4-5we. 150pm. Dont miss out! \n",
      "\n",
      "57 -> Sorry, I'll call later in meeting.\n",
      "\n",
      "58 -> Tell where you reached\n",
      "\n",
      "59 -> Yes..gauti and sehwag out of odi series.\n",
      "\n",
      "EXAMPLE OUTPUT:\n",
      "{\n",
      "    \"54\": \"SPAM\",\n",
      "    \"55\": \"NOT SPAM\",\n",
      "    \"56\": \"SPAM\",\n",
      "    \"57\": \"NOT SPAM\",\n",
      "    \"58\": \"NOT SPAM\",\n",
      "    \"59\": \"NOT SPAM\",\n",
      "}\n",
      "\n",
      "    \n",
      "USER_PROMPT:\n",
      "7 -> As per your request 'Melle Melle (Oru Minnaminunginte Nurungu Vettam)' has been set as your callertune for all Callers. Press *9 to copy your friends Callertune\n",
      "\n",
      "8 -> WINNER!! As a valued network customer you have been selected to receivea £900 prize reward! To claim call 09061701461. Claim code KL341. Valid 12 hours only.\n",
      "\n",
      "9 -> Had your mobile 11 months or more? U R entitled to Update to the latest colour mobiles with camera for Free! Call The Mobile Update Co FREE on 08002986030\n",
      "\n",
      "10 -> I'm gonna be home soon and i don't want to talk about this stuff anymore tonight, k? I've cried enough today.\n",
      "\n",
      "11 -> SIX chances to win CASH! From 100 to 20,000 pounds txt> CSH11 and send to 87575. Cost 150p/day, 6days, 16+ TsandCs apply Reply HL 4 info\n",
      "\n",
      "12 -> URGENT! You have won a 1 week FREE membership in our £100,000 Prize Jackpot! Txt the word: CLAIM to No: 81010 T&C www.dbuk.net LCCLTD POBOX 4403LDNW1A7RW18\n",
      "\n",
      "13 -> I've been searching for the right words to thank you for this breather. I promise i wont take your help for granted and will fulfil my promise. You have been wonderful and a blessing at all times.\n",
      "\n",
      "14 -> I HAVE A DATE ON SUNDAY WITH WILL!!\n",
      "\n",
      "\n"
     ]
    }
   ],
   "source": [
    "# Student task: Construct a query that includes the labelled messages\n",
    "# and asks the LLM to classify the unlabelled messages as SPAM or NOT SPAM,\n",
    "# responding in JSON format.\n",
    "# TODO: Fill in the missing parts marked with **********\n",
    "\n",
    "# Get a few messages and format them as a string\n",
    "sms_messages_string = get_sms_messages_string(dataset, range(7, 15))\n",
    "\n",
    "# Construct a SYSTEM_PROMPT and USER_PROMPT to send to the LLM. This time, let's include the\n",
    "# labelled examples to see if it improves accuracy. Hint: use get_few_shot_examples_string(dataset, range(54, 60))\n",
    "\n",
    "SYSTEM_PROMPT = \"\"\"**********\"\"\"\n",
    "USER_PROMPT = \"\"\"**********\"\"\"\n",
    "\n",
    "\n",
    "# <<< START SOLUTION SECTION\n",
    "\n",
    "SYSTEM_PROMPT = f\"\"\"You are a helpful assistant that classifies text messages as SPAM or NOT SPAM.\n",
    "\n",
    "    You will receive a list of text messages, each with a unique identifier.\n",
    "\n",
    "    Respond only with JSON. Do not include any other text, preamble, or explanation.\n",
    "\n",
    "{get_few_shot_examples_string(dataset, range(54, 60))}\n",
    "    \"\"\"\n",
    "USER_PROMPT = sms_messages_string\n",
    "\n",
    "# >>> END SOLUTION SECTION\n",
    "\n",
    "print(\"SYSTEM_PROMPT:\")\n",
    "print(SYSTEM_PROMPT)\n",
    "print(\"USER_PROMPT:\")\n",
    "print(USER_PROMPT)"
   ]
  },
  {
   "cell_type": "markdown",
   "metadata": {},
   "source": [
    "Paste in your response from the LLM below:"
   ]
  },
  {
   "cell_type": "code",
   "execution_count": 10,
   "metadata": {},
   "outputs": [
    {
     "name": "stdout",
     "output_type": "stream",
     "text": [
      "{\n",
      "  \"7\": \"SPAM\",\n",
      "  \"8\": \"SPAM\",\n",
      "  \"9\": \"SPAM\",\n",
      "  \"10\": \"NOT SPAM\",\n",
      "  \"11\": \"SPAM\",\n",
      "  \"12\": \"SPAM\",\n",
      "  \"13\": \"NOT SPAM\",\n",
      "  \"14\": \"NOT SPAM\"\n",
      "}\n",
      "Response is valid JSON\n"
     ]
    }
   ],
   "source": [
    "# Get the response from the LLM\n",
    "# No changes needed in this cell\n",
    "\n",
    "from litellm import completion\n",
    "\n",
    "response = completion(\n",
    "    model=\"gpt-5-nano\",\n",
    "    messages=[\n",
    "        {\"role\": \"user\", \"content\": USER_PROMPT},\n",
    "        {\"role\": \"system\", \"content\": SYSTEM_PROMPT},\n",
    "    ],\n",
    ")\n",
    "\n",
    "response = response.choices[0].message.content\n",
    "print(response)\n",
    "\n",
    "# Check that response is in valid JSON format\n",
    "try:\n",
    "    import json\n",
    "\n",
    "    json.loads(response)\n",
    "    print(\"Response is valid JSON\")\n",
    "except json.JSONDecodeError:\n",
    "    print(\"Response is not valid JSON\")"
   ]
  },
  {
   "cell_type": "markdown",
   "metadata": {},
   "source": [
    "Let's check the accuracy now"
   ]
  },
  {
   "cell_type": "code",
   "execution_count": 11,
   "metadata": {},
   "outputs": [
    {
     "name": "stdout",
     "output_type": "stream",
     "text": [
      "Mismatch for entry 7: predicted=SPAM, actual=NOT SPAM\n",
      "Accuracy: 0.88\n"
     ]
    }
   ],
   "source": [
    "# Estimate the accuracy of your classifier by comparing your responses to the labels in the dataset\n",
    "# No changes needed in this cell\n",
    "\n",
    "print(f\"Accuracy: {get_accuracy(response, dataset, range(7, 15)):.2f}\")"
   ]
  },
  {
   "cell_type": "markdown",
   "metadata": {},
   "source": [
    "Do you still have any errors present? If so, why do you think this is happening?"
   ]
  },
  {
   "cell_type": "markdown",
   "metadata": {},
   "source": [
    "<br /><br /><br /><br /><br /><br /><br /><br /><br />"
   ]
  }
 ],
 "metadata": {
  "kernelspec": {
   "display_name": "genai-nd-c1",
   "language": "python",
   "name": "python3"
  },
  "language_info": {
   "codemirror_mode": {
    "name": "ipython",
    "version": 3
   },
   "file_extension": ".py",
   "mimetype": "text/x-python",
   "name": "python",
   "nbconvert_exporter": "python",
   "pygments_lexer": "ipython3",
   "version": "3.13.0"
  }
 },
 "nbformat": 4,
 "nbformat_minor": 4
}
