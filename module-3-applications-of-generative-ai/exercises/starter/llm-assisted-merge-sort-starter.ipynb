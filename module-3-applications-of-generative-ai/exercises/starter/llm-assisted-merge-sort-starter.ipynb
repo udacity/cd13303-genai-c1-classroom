{
  "cells": [
    {
      "cell_type": "markdown",
      "id": "d4c0323f",
      "metadata": {},
      "source": [
        "# LLM-Assisted Merge Sort: Implementation, Testing, and Reflection\n",
        "\n",
        "Welcome! In this exercise you'll collaborate with an LLM to design and implement the merge sort algorithm and its tests. You'll practice prompting, validating, and reflecting on both code and test quality.\n",
        "\n",
        "If you need a reminder of how the merge sort algorithm works, check out [this explanation](https://en.wikipedia.org/wiki/Merge_sort) or [watch this dance video illustrating it](https://www.youtube.com/watch?v=XaqR3G_NVoo). Essentially, merge sort is a divide-and-conquer algorithm that splits a list into halves, recursively sorts each half, and then merges the sorted halves back together.|\n",
        "\n",
        "\n",
        "## What you’ll do in this notebook\n",
        "\n",
        "- Prompting for Merge Sort Code\n",
        "- Quick Functional Check\n",
        "- Merge Sort Reflection\n",
        "- Prompting for Merge Sort Test Cases\n",
        "- Running the Merge Sort Tests\n"
      ]
    },
    {
      "cell_type": "code",
      "execution_count": null,
      "id": "4afad1db",
      "metadata": {},
      "outputs": [],
      "source": [
        "# Student Task: Set up the OpenAI API key and base URL from environment variables\n",
        "# TODO: If using Vocareum, set the API key directly in the code below\n",
        "\n",
        "import litellm\n",
        "import os\n",
        "\n",
        "if os.getenv(\"OPENAI_API_KEY\"):\n",
        "    litellm.openai_key = os.getenv(\"OPENAI_API_KEY\")\n",
        "\n",
        "# If using Vocareum, you can also set your API key here directly\n",
        "# Uncomment and replace the string with your actual Vocareum API key\n",
        "# litellm.openai_key = \"voc-**********\"\n",
        "\n",
        "if (litellm.openai_key or \"\").startswith(\"voc-\"):\n",
        "    litellm.api_base = \"https://openai.vocareum.com/v1\"\n",
        "    print(\"Using Vocareum OpenAI API base URL\")"
      ]
    },
    {
      "cell_type": "markdown",
      "id": "a4ba303b",
      "metadata": {},
      "source": [
        "## Prompting for Merge Sort Code\n",
        "\n",
        "Let's prompt an LLM (using OpenAI by default) for an implementation of a merge sort algorithm in Python.\n",
        "\n",
        "The function should be named `merge_sort` and take a list of integers and return a new list with the integers sorted in ascending order."
      ]
    },
    {
      "cell_type": "code",
      "execution_count": null,
      "id": "e7027232",
      "metadata": {},
      "outputs": [],
      "source": [
        "# Student task: Write the USER_PROMPT to request a merge sort implementation in Python.\n",
        "# Complete the sections with **********\n",
        "\n",
        "SYSTEM_PROMPT = \"\"\"You are a helpful coding assistant. Return only the code, no explanations, preamble, or commentary.\"\"\"\n",
        "\n",
        "USER_PROMPT = \"\"\"**********\"\"\"\n",
        ""
      ]
    },
    {
      "cell_type": "code",
      "execution_count": null,
      "id": "47faca43",
      "metadata": {},
      "outputs": [],
      "source": [
        "# Use litellm to get the response\n",
        "# No changes needed in this cell\n",
        "\n",
        "from litellm import completion\n",
        "\n",
        "response = completion(\n",
        "    model=\"gpt-5-mini\",  # this is where you can change the model\n",
        "    messages=[\n",
        "        {\"role\": \"system\", \"content\": SYSTEM_PROMPT},\n",
        "        {\"role\": \"user\", \"content\": USER_PROMPT},\n",
        "    ],\n",
        ")\n",
        "function_response = response.choices[0].message.content\n",
        "print(function_response)"
      ]
    },
    {
      "cell_type": "code",
      "execution_count": null,
      "id": "144cd706",
      "metadata": {},
      "outputs": [],
      "source": [
        "# Student task: Paste the function implementation from the LLM in this cell.\n",
        "# Complete the sections with **********\n",
        "\n",
        "\n",
        "# **********\n",
        ""
      ]
    },
    {
      "cell_type": "markdown",
      "id": "927d45f0",
      "metadata": {},
      "source": [
        "## Quick Functional Check\n",
        "\n",
        "Let's test this function to see if it works as expected."
      ]
    },
    {
      "cell_type": "code",
      "execution_count": null,
      "id": "7e723716",
      "metadata": {},
      "outputs": [],
      "source": [
        "# Student task: Fill in the expected sorted lists for Input A and Input B\n",
        "# Complete the sections with **********\n",
        "\n",
        "# Input samples\n",
        "# No changes needed in this cell\n",
        "\n",
        "input_A = [42, 5, 23, 7, 16, 91]\n",
        "input_B = [3, 3, 2, 1, 5, 0, -4]\n",
        "\n",
        "# Expected outputs\n",
        "expected_A = \"**********\"\n",
        "expected_B = \"**********\"\n",
        "\n",
        "\n",
        "# Run merge_sort on the sample inputs\n",
        "output_A = merge_sort(input_A)\n",
        "output_B = merge_sort(input_B)\n",
        "\n",
        "print(\"Input A:\", input_A)\n",
        "print(\"Output A:\", output_A)\n",
        "print(\"Expected A:\", expected_A)\n",
        "print(\"Match A:\", output_A == expected_A)\n",
        "print()\n",
        "\n",
        "print(\"Input B:\", input_B)\n",
        "print(\"Output B:\", output_B)\n",
        "print(\"Expected B:\", expected_B)\n",
        "print(\"Match B:\", output_B == expected_B)\n",
        "print()\n",
        "\n",
        "if output_A == expected_A and output_B == expected_B:\n",
        "    print(\"Both test cases passed! 🎉\")\n",
        "else:\n",
        "    print(\"One or more test cases failed. ❌\")\n",
        "    raise ValueError(\"Test cases did not pass.\")\n",
        ""
      ]
    },
    {
      "cell_type": "markdown",
      "id": "3bc7030e",
      "metadata": {},
      "source": [
        "## Merge Sort Reflection\n",
        "\n",
        "Reflect on the implementation and its behavior."
      ]
    },
    {
      "cell_type": "code",
      "execution_count": null,
      "id": "d244e179",
      "metadata": {},
      "outputs": [],
      "source": [
        "# Student task: Reflect on the implementation and its behavior.\n",
        "# Complete the sections with **********\n",
        "\n",
        "# 1. Did the implementation correctly sort both sample inputs?\n",
        "# - **********\n",
        "\n",
        "\n",
        "# 2. Does the structure (recursive splits, merge step) align with the canonical merge sort algorithm?\n",
        "# - **********\n",
        "\n",
        "\n",
        "# 3. Is the code readable and maintainable?\n",
        "# - **********\n",
        "\n",
        "\n",
        "# 4. How terse or verbose is the solution relative to your expectations?\n",
        "\n",
        ""
      ]
    },
    {
      "cell_type": "code",
      "execution_count": null,
      "id": "519df14c",
      "metadata": {},
      "outputs": [],
      "source": [
        "# Let's check merge_sort on some edge cases\n",
        "# No changes needed in this cell\n",
        "\n",
        "# Empty list\n",
        "print(\"Edge Case - Empty List:\")\n",
        "empty_input = []\n",
        "empty_output = merge_sort(empty_input)\n",
        "print(\"Input:\", empty_input)\n",
        "print(\"Output:\", empty_output)\n",
        "print()\n",
        "\n",
        "# Single element\n",
        "print(\"Edge Case - Single Element:\")\n",
        "single_input = [42]\n",
        "single_output = merge_sort(single_input)\n",
        "print(\"Input:\", single_input)\n",
        "print(\"Output:\", single_output)\n",
        "print()\n",
        "\n",
        "# Already sorted\n",
        "print(\"Edge Case - Already Sorted:\")\n",
        "sorted_input = [1, 2, 3, 4, 5]\n",
        "sorted_output = merge_sort(sorted_input)\n",
        "print(\"Input:\", sorted_input)\n",
        "print(\"Output:\", sorted_output)\n",
        "print()\n",
        "\n",
        "# Duplicates\n",
        "print(\"Edge Case - Duplicates:\")\n",
        "duplicates_input = [5, 1, 3, 3, 2, 1]\n",
        "duplicates_output = merge_sort(duplicates_input)\n",
        "print(\"Input:\", duplicates_input)\n",
        "print(\"Output:\", duplicates_output)\n",
        "print()"
      ]
    },
    {
      "cell_type": "code",
      "execution_count": null,
      "id": "78d94453",
      "metadata": {},
      "outputs": [],
      "source": [
        "# 5. How are edge cases handled (e.g., empty lists, duplicate values, already sorted inputs)?\n",
        "# - Empty list: Base case returns a copy, so [] -> [].\n",
        "# - Single element: Base case returns a copy, preserving the element.\n",
        "# - Duplicates: The merge uses <=, preserving stability and correctly handling duplicates.\n",
        "# - Already sorted: It still performs splits/merges but returns the same order.\n",
        "\n",
        "\n",
        ""
      ]
    },
    {
      "cell_type": "markdown",
      "id": "4caa9805",
      "metadata": {},
      "source": [
        "## Prompting for Merge Sort Test Cases\n",
        "\n",
        "Now, let's ask the LLM to create test cases for our `merge_sort` function, covering various scenarios.\n",
        "\n",
        "We'll want to ensure the tests cover:\n",
        "- Basic functionality\n",
        "- Edge cases (empty list, single element, duplicates)\n",
        "- Invalid inputs (strings, None, mixed types)\n",
        "\n",
        "The test cases should be implemented using Python's `unittest` framework in a class named `TestMergeSort`.\n",
        "\n",
        "Only include the import of `unittest` and the `TestMergeSort` class with its methods in your response, nothing else."
      ]
    },
    {
      "cell_type": "code",
      "execution_count": null,
      "id": "ef437187",
      "metadata": {},
      "outputs": [],
      "source": [
        "# Student task: Write the USER_PROMPT to request test cases for the merge_sort function.\n",
        "# Complete the sections with **********\n",
        "\n",
        "SYSTEM_PROMPT = \"\"\"You are a helpful coding assistant that writes unit tests for Python functions\n",
        "    using the unittest framework in test classes.\n",
        "    \n",
        "    * Return only the code, no explanations, preamble, or commentary.    \n",
        "    * Do not include any code other than the test classes.\n",
        "    * Assume unittest and all necessary imports are already imported.\n",
        "    * Assume any functions and objects to be tested are already imported.\n",
        "    * Do not include an `if __name__ == \"__main__\":` block.\n",
        "    * Do not include a call to unittest.main().\n",
        "    \"\"\"\n",
        "\n",
        "USER_PROMPT = \"\"\"**********\"\"\"\n",
        ""
      ]
    },
    {
      "cell_type": "code",
      "execution_count": null,
      "id": "47493080",
      "metadata": {},
      "outputs": [],
      "source": [
        "response = completion(\n",
        "    model=\"gpt-5-mini\",  # this is where you can change the model\n",
        "    messages=[\n",
        "        {\"role\": \"system\", \"content\": SYSTEM_PROMPT},\n",
        "        {\"role\": \"user\", \"content\": USER_PROMPT},\n",
        "    ],\n",
        "    # max_tokens=500,\n",
        "    # temperature=0,\n",
        ")\n",
        "test_cases_response = response.choices[0].message.content\n",
        "print(test_cases_response)"
      ]
    },
    {
      "cell_type": "markdown",
      "id": "8e9bfe7b",
      "metadata": {},
      "source": [
        "## Running the Merge Sort Tests\n",
        "Finally, let's try running the tests!"
      ]
    },
    {
      "cell_type": "code",
      "execution_count": null,
      "id": "b364fae5",
      "metadata": {},
      "outputs": [],
      "source": [
        "# Student task: Paste the test cases from the LLM in this cell. Do not a include unittest.main call, if it is present.\n",
        "# Complete the sections with **********\n",
        "\n",
        "\n",
        "import unittest\n",
        "\n",
        "# **********\n",
        "\n",
        ""
      ]
    },
    {
      "cell_type": "code",
      "execution_count": null,
      "id": "ed0de6b6",
      "metadata": {},
      "outputs": [],
      "source": [
        "# Run the tests!\n",
        "# No changes needed in this cell\n",
        "\n",
        "unittest.main(argv=[\"test-merge-sort\"], exit=False)\n",
        "\n",
        "# Did the test for unexpected input types fail? If so, remember that we didn't ask the LLM\n",
        "# to handle those cases specifically in the first place."
      ]
    },
    {
      "cell_type": "markdown",
      "id": "c0c9d0cc",
      "metadata": {},
      "source": [
        "**If your tests don't pass, don't worry!**\n",
        "\n",
        "You might notice we asked for tests covering invalid inputs, but we didn't ask our `merge_sort` function to handle those cases specifically. If this is a feature we want our function to have, we would go back and update our prompt to include that requirement, and then regenerate the function. But for now, we're done with this exercise.\n",
        "\n",
        "Having LLMs help you generate test cases is an interesting perspective on Test-Driven Development (TDD)!"
      ]
    },
    {
      "cell_type": "markdown",
      "id": "a554fed3",
      "metadata": {},
      "source": [
        "## Congrats!\n",
        "\n",
        "Hooray! You orchestrated LLM-assisted coding and testing like a pro! Keep that momentum rolling into your next build."
      ]
    },
    {
      "cell_type": "markdown",
      "id": "319fbff5",
      "metadata": {},
      "source": [
        "<br /><br /><br /><br /><br /><br /><br /><br /><br />"
      ]
    }
  ],
  "metadata": {
    "kernelspec": {
      "display_name": "Python 3 (ipykernel)",
      "language": "python",
      "name": "python3"
    },
    "language_info": {
      "codemirror_mode": {
        "name": "ipython",
        "version": 3
      },
      "file_extension": ".py",
      "mimetype": "text/x-python",
      "name": "python",
      "nbconvert_exporter": "python",
      "pygments_lexer": "ipython3",
      "version": "3.13.0"
    }
  },
  "nbformat": 4,
  "nbformat_minor": 5
}