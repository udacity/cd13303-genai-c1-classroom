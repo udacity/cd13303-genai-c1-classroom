{
 "cells": [
  {
   "cell_type": "markdown",
   "id": "e672bb19",
   "metadata": {},
   "source": [
    "# Exercise: Teach an LLM to Spell with Supervised Fine-Tuning (SFT)"
   ]
  },
  {
   "cell_type": "markdown",
   "id": "2e01691a",
   "metadata": {},
   "source": [
    "Large language models (LLMs) are notoriously bad at spelling. This is partly because tokenizers break words into smaller pieces, so the model learns about sub-word units rather than whole words and their spellings.\n",
    "\n",
    "In this exercise, you'll use supervised fine-tuning (SFT) and a technique called Parameter-Efficient Fine-Tuning (PEFT) with Low-Rank Adaptation (LoRA) to teach a small LLM how to spell words. This is a classic example of teaching a model a new skill that isn't well-represented in its pre-training data.\n",
    "\n",
    "## What you'll do in this notebook\n",
    "\n",
    "1.  **Setup**: Import libraries and configure the environment.\n",
    "2.  **Load the tokenizer and base model**: Use a small, instruction-tuned model as our starting point.\n",
    "3.  **Create the dataset**: Generate a simple dataset of words and their correct spellings.\n",
    "4.  **Evaluate the base model**: Test the model's spelling ability *before* fine-tuning to establish a baseline.\n",
    "5.  **Configure LoRA and train**: Attach a LoRA adapter to the model and fine-tune it on the spelling dataset.\n",
    "6.  **Evaluate the fine-tuned model**: Test the model again to see if its spelling has improved."
   ]
  },
  {
   "cell_type": "markdown",
   "id": "d04085e7",
   "metadata": {},
   "source": [
    "## Setup"
   ]
  },
  {
   "cell_type": "code",
   "execution_count": 1,
   "id": "97437029",
   "metadata": {},
   "outputs": [
    {
     "name": "stdout",
     "output_type": "stream",
     "text": [
      "Using device: mps\n"
     ]
    }
   ],
   "source": [
    "# Setup imports\n",
    "# No changes needed in this cell\n",
    "\n",
    "import os\n",
    "import torch\n",
    "from datasets import Dataset\n",
    "\n",
    "from transformers import (\n",
    "    AutoTokenizer,\n",
    "    AutoModelForCausalLM,\n",
    ")\n",
    "from peft import LoraConfig, get_peft_model\n",
    "from trl import SFTTrainer, SFTConfig\n",
    "\n",
    "# Use GPU, MPS, or CPU, in that order of preference\n",
    "if torch.cuda.is_available():\n",
    "    device = torch.device(\"cuda\")  # NVIDIA GPU\n",
    "elif torch.backends.mps.is_available():\n",
    "    device = torch.device(\"mps\")  # Apple Silicon\n",
    "else:\n",
    "    device = torch.device(\"cpu\")\n",
    "torch.set_num_threads(max(1, os.cpu_count() // 2))\n",
    "print(\"Using device:\", device)"
   ]
  },
  {
   "cell_type": "markdown",
   "id": "18f0a0d7",
   "metadata": {},
   "source": [
    "## Step 1. Load the tokenizer and base model\n",
    "\n",
    "The model `HuggingFaceTB/SmolLM2-135M-Instruct` is a small, instruction-tuned model that's suitable for this exercise. It has 135 million parameters, making it lightweight and efficient for fine-tuning. It's not the most powerful model, but it's a good choice for demonstrating the concepts of SFT and PEFT with LoRA, especially on a CPU or limited GPU resources."
   ]
  },
  {
   "cell_type": "code",
   "execution_count": 2,
   "id": "f8028ac1",
   "metadata": {},
   "outputs": [
    {
     "name": "stdout",
     "output_type": "stream",
     "text": [
      "Model parameters (total): 134515008\n"
     ]
    }
   ],
   "source": [
    "# Student task: Load the model and tokenizer, and copy the model to the device.\n",
    "# TODO: Complete the sections with **********\n",
    "\n",
    "# See: https://huggingface.co/docs/transformers/en/models\n",
    "# See: https://huggingface.co/docs/transformers/en/fast_tokenizers\n",
    "\n",
    "# Model ID for SmolLM2-135M-Instruct\n",
    "model_id = \"***********\"\n",
    "\n",
    "# Load the tokenizer\n",
    "tokenizer = \"***********\"\n",
    "\n",
    "# Load the model\n",
    "model = \"***********\"\n",
    "\n",
    "# Copy the model to the device (GPU, MPS, or CPU)\n",
    "model = \"***********\"\n",
    "\n",
    "\n",
    "# <<< START SOLUTION SECTION\n",
    "# Model ID for SmolLM2-135M-Instruct\n",
    "model_id = \"HuggingFaceTB/SmolLM2-135M-Instruct\"\n",
    "\n",
    "# Load the tokenizer\n",
    "tokenizer = AutoTokenizer.from_pretrained(model_id)\n",
    "\n",
    "# Load the model\n",
    "model = AutoModelForCausalLM.from_pretrained(\n",
    "    model_id,\n",
    ")\n",
    "\n",
    "# Copy the model to the device (GPU, MPS, or CPU)\n",
    "model = model.to(device)\n",
    "# <<< END SOLUTION SECTION\n",
    "\n",
    "print(\"Model parameters (total):\", sum(p.numel() for p in model.parameters()))"
   ]
  },
  {
   "cell_type": "markdown",
   "id": "c6665787",
   "metadata": {},
   "source": [
    "## Step 2. Create the dataset"
   ]
  },
  {
   "cell_type": "code",
   "execution_count": 3,
   "id": "46de84a5",
   "metadata": {},
   "outputs": [],
   "source": [
    "# Create a list of words of different lengths\n",
    "# No changes are needed in this cell.\n",
    "\n",
    "# fmt: off\n",
    "ALL_WORDS = [\n",
    "    \"idea\", \"glow\", \"rust\", \"maze\", \"echo\", \"wisp\", \"veto\", \"lush\", \"gaze\", \"knit\", \"fume\", \"plow\",\n",
    "    \"void\", \"oath\", \"grim\", \"crisp\", \"lunar\", \"fable\", \"quest\", \"verge\", \"brawn\", \"elude\", \"aisle\",\n",
    "    \"ember\", \"crave\", \"ivory\", \"mirth\", \"knack\", \"wryly\", \"onset\", \"mosaic\", \"velvet\", \"sphinx\",\n",
    "    \"radius\", \"summit\", \"banner\", \"cipher\", \"glisten\", \"mantle\", \"scarab\", \"expose\", \"fathom\",\n",
    "    \"tavern\", \"fusion\", \"relish\", \"lantern\", \"enchant\", \"torrent\", \"capture\", \"orchard\", \"eclipse\",\n",
    "    \"frescos\", \"triumph\", \"absolve\", \"gossipy\", \"prelude\", \"whistle\", \"resolve\", \"zealous\",\n",
    "    \"mirage\", \"aperture\", \"sapphire\",\n",
    "]\n",
    "# fmt: on"
   ]
  },
  {
   "cell_type": "code",
   "execution_count": 4,
   "id": "bbeab6e5",
   "metadata": {},
   "outputs": [
    {
     "data": {
      "text/plain": [
       "{'prompt': 'You spell words with hyphens between the letters like this W-O-R-D.\\nWord:\\nidea\\n\\nSpelling:\\n',\n",
       " 'completion': 'I-D-E-A.'}"
      ]
     },
     "execution_count": 4,
     "metadata": {},
     "output_type": "execute_result"
    }
   ],
   "source": [
    "# Student Task: Create a Hugging Face Dataset with the prompt that asks the model to spell the word\n",
    "# with hyphens between the letters.\n",
    "# TODO: Complete the sections with **********\n",
    "\n",
    "\n",
    "def generate_records():\n",
    "    for word in ALL_WORDS:\n",
    "        yield {\n",
    "            # We will use the SFTTrainer which expects a certain format for prompt and completions pair\n",
    "            # in order for it to automatically construct the right tokenizations to train the model.\n",
    "            # See the documentation for more details:\n",
    "            # https://huggingface.co/docs/trl/en/sft_trainer#expected-dataset-type-and-format\n",
    "            # \"**********\": f\"**********\",\n",
    "            # <<< START SOLUTION SECTION\n",
    "            \"prompt\": (\n",
    "                f\"You spell words with hyphens between the letters like this W-O-R-D.\\nWord:\\n{word}\\n\\n\"\n",
    "                + \"Spelling:\\n\"\n",
    "            ),\n",
    "            # >>> END SOLUTION SECTION\n",
    "            \"completion\": \"-\".join(word).upper() + \".\",  # Of the form W-O-R-D.\n",
    "        }\n",
    "\n",
    "\n",
    "ds = Dataset.from_generator(generate_records)\n",
    "\n",
    "# Show the first item\n",
    "ds[0]"
   ]
  },
  {
   "cell_type": "code",
   "execution_count": 5,
   "id": "120b63d3",
   "metadata": {},
   "outputs": [],
   "source": [
    "# Student Task: Split the dataset into training and testing sets\n",
    "# See: train_test_split\n",
    "# TODO: Complete the sections with **********\n",
    "\n",
    "# ds = **********  # Set the test set to be 25% of the dataset, and the rest is training\n",
    "\n",
    "# <<< START SOLUTION SECTION\n",
    "ds = ds.train_test_split(test_size=0.25, seed=42)\n",
    "# >>> END SOLUTION SECTION\n"
   ]
  },
  {
   "cell_type": "code",
   "execution_count": 6,
   "id": "8c68fbd9",
   "metadata": {},
   "outputs": [
    {
     "data": {
      "text/plain": [
       "Dataset({\n",
       "    features: ['prompt', 'completion'],\n",
       "    num_rows: 46\n",
       "})"
      ]
     },
     "execution_count": 6,
     "metadata": {},
     "output_type": "execute_result"
    }
   ],
   "source": [
    "# View the training set\n",
    "# No changes needed in this cell\n",
    "\n",
    "ds[\"train\"]"
   ]
  },
  {
   "cell_type": "markdown",
   "id": "4b6a9436",
   "metadata": {},
   "source": [
    "## Step 3. Evaluate the base model\n",
    "\n",
    "Before we fine-tune the model, let's see how it performs on the spelling task. We'll create a helper function to generate a spelling for a given word and compare it to the correct answer."
   ]
  },
  {
   "cell_type": "code",
   "execution_count": 7,
   "id": "6581c243",
   "metadata": {},
   "outputs": [
    {
     "name": "stdout",
     "output_type": "stream",
     "text": [
      "Proposed: wry | Actual: WRYLY. | Matches: ❌\n"
     ]
    },
    {
     "data": {
      "text/plain": [
       "0.0"
      ]
     },
     "execution_count": 7,
     "metadata": {},
     "output_type": "execute_result"
    }
   ],
   "source": [
    "# Student task: Create a function to check the model's spelling.\n",
    "# This function will take a model, tokenizer, prompt, and the correct spelling.\n",
    "# It should generate text from the model and compare the model's proposed spelling\n",
    "# to the actual spelling, returning the proportion of characters that were correct.\n",
    "# TODO: Complete the sections with **********\n",
    "\n",
    "\n",
    "def check_spelling(\n",
    "    model, tokenizer, prompt: str, actual_spelling: str, max_new_tokens: int = 20\n",
    ") -> (str, str):\n",
    "    # Tokenize the prompt\n",
    "    # inputs = **********\n",
    "\n",
    "    # Generate text from the model\n",
    "    # gen = **********\n",
    "\n",
    "    # Decode the generated tokens to a string\n",
    "    # output = **********\n",
    "\n",
    "    # Extract the generated spelling from the full output string\n",
    "    # proposed_spelling = \"**********\"\n",
    "\n",
    "    # strip any whitepsace from the actual spelling\n",
    "    # actual_spelling = \"**********\"\n",
    "\n",
    "    # Remove hyphens for a character-by-character comparison\n",
    "    # proposed_spelling = \"**********\"\n",
    "    # actual_spelling = \"**********\"\n",
    "\n",
    "    # Calculate the number of correct characters\n",
    "    # num_correct = \"**********\"\n",
    "\n",
    "    # <<< START SOLUTION SECTION\n",
    "    # Tokenize the prompt\n",
    "    inputs = tokenizer(prompt, return_tensors=\"pt\").to(device)\n",
    "\n",
    "    # Generate text from the model\n",
    "    gen = model.generate(\n",
    "        **inputs, max_new_tokens=max_new_tokens\n",
    "    )  # No parameters = greedy search\n",
    "\n",
    "    # Decode the generated tokens to a string\n",
    "    output = tokenizer.decode(gen[0], skip_special_tokens=True)\n",
    "\n",
    "    # Extract the generated spelling from the full output string\n",
    "    proposed_spelling = output.split(\"Spelling:\")[-1].strip().split(\"\\n\")[0].strip()\n",
    "\n",
    "    # strip any whitepsace from the actual spelling\n",
    "    actual_spelling = actual_spelling.strip()\n",
    "\n",
    "    # Remove hyphens for a character-by-character comparison\n",
    "    proposed_spelling = proposed_spelling.replace(\"-\", \"\")\n",
    "    actual_spelling = actual_spelling.replace(\"-\", \"\")\n",
    "\n",
    "    # Calculate the number of correct characters\n",
    "    num_correct = sum(1 for a, b in zip(actual_spelling, proposed_spelling) if a == b)\n",
    "    # >>> END SOLUTION SECTION\n",
    "\n",
    "    print(\n",
    "        f\"Proposed: {proposed_spelling} | Actual: {actual_spelling} \"\n",
    "        f\"| Matches: {'✅' if proposed_spelling == actual_spelling else '❌'}\"\n",
    "    )\n",
    "\n",
    "    return num_correct / len(actual_spelling)  # Return proportion correct\n",
    "\n",
    "\n",
    "check_spelling(\n",
    "    model=model,\n",
    "    tokenizer=tokenizer,\n",
    "    prompt=ds[\"test\"][0][\"prompt\"],\n",
    "    actual_spelling=ds[\"test\"][0][\"completion\"],\n",
    ")"
   ]
  },
  {
   "cell_type": "code",
   "execution_count": 8,
   "id": "7642646c",
   "metadata": {},
   "outputs": [
    {
     "name": "stdout",
     "output_type": "stream",
     "text": [
      "Proposed: sphinx | Actual: SPHINX. | Matches: ❌\n",
      "Proposed: brawn | Actual: BRAWN. | Matches: ❌\n",
      "Proposed: goss | Actual: GOSSIPY. | Matches: ❌\n",
      "Proposed: enchant | Actual: ENCHANT. | Matches: ❌\n",
      "Proposed: tavern | Actual: TAVERN. | Matches: ❌\n",
      "Proposed: whistle | Actual: WHISTLE. | Matches: ❌\n",
      "Proposed: WORD | Actual: CAPTURE. | Matches: ❌\n",
      "Proposed: echo | Actual: ECHO. | Matches: ❌\n",
      "Proposed: mirth | Actual: MIRTH. | Matches: ❌\n",
      "Proposed: cris | Actual: CRISP. | Matches: ❌\n",
      "Proposed: zeal | Actual: ZEALOUS. | Matches: ❌\n",
      "Proposed:  | Actual: EMBER. | Matches: ❌\n",
      "Proposed: scarab | Actual: SCARAB. | Matches: ❌\n",
      "Proposed:  | Actual: KNIT. | Matches: ❌\n",
      "Proposed: resolve | Actual: RESOLVE. | Matches: ❌\n",
      "Proposed: velvet | Actual: VELVET. | Matches: ❌\n",
      "Proposed:  | Actual: ABSOLVE. | Matches: ❌\n",
      "Proposed: lunar | Actual: LUNAR. | Matches: ❌\n",
      "Proposed: maze | Actual: MAZE. | Matches: ❌\n",
      "Proposed:  | Actual: SUMMIT. | Matches: ❌\n",
      "0.0/20.0 words correct\n"
     ]
    }
   ],
   "source": [
    "# Student task: Evaluate the base model's spelling ability\n",
    "# We expect it to perform poorly, as it hasn't been trained for this task.\n",
    "\n",
    "proportion_correct = 0.0\n",
    "\n",
    "for example in ds[\"train\"].select(range(20)):\n",
    "    prompt = example[\"prompt\"]\n",
    "    completion = example[\"completion\"]\n",
    "    result = check_spelling(\n",
    "        model=model,\n",
    "        tokenizer=tokenizer,\n",
    "        prompt=prompt,\n",
    "        actual_spelling=completion,\n",
    "        max_new_tokens=20,\n",
    "    )\n",
    "    proportion_correct += result\n",
    "\n",
    "print(f\"{proportion_correct}/20.0 words correct\")"
   ]
  },
  {
   "cell_type": "markdown",
   "id": "e7c6563f",
   "metadata": {},
   "source": [
    "As expected, the base model is terrible at spelling. It mostly just repeats the word back. Now, let's fine-tune it."
   ]
  },
  {
   "cell_type": "markdown",
   "id": "d1e7ef15",
   "metadata": {},
   "source": [
    "## Step 4. Configure LoRA and train the model"
   ]
  },
  {
   "cell_type": "markdown",
   "id": "403a39e8",
   "metadata": {},
   "source": [
    "Let’s attach a LoRA adapter to the base model. We use a LoRA config so only a tiny fraction of parameters are trainable. Read more here: [LoRA](https://huggingface.co/docs/peft/main/en/conceptual_guides/lora)."
   ]
  },
  {
   "cell_type": "code",
   "execution_count": 9,
   "id": "d1b8d596",
   "metadata": {},
   "outputs": [
    {
     "name": "stdout",
     "output_type": "stream",
     "text": [
      "Trainable params BEFORE: 134,515,008 / 134,515,008 (100.00%)\n",
      "Trainable params AFTER: 3,686,400 / 138,201,408 (2.67%)\n"
     ]
    }
   ],
   "source": [
    "# Student task: Configure LoRA for a causal LM and wrap the model with get_peft_model\n",
    "# Complete the sections with **********\n",
    "\n",
    "# Print how many params are trainable at first\n",
    "trainable = sum(p.numel() for p in model.parameters() if p.requires_grad)\n",
    "total = sum(p.numel() for p in model.parameters())\n",
    "print(\n",
    "    f\"Trainable params BEFORE: {trainable:,} / {total:,} ({100 * trainable / total:.2f}%)\"\n",
    ")\n",
    "\n",
    "# See: https://huggingface.co/docs/peft/package_reference/lora\n",
    "# lora_config = LoraConfig(\n",
    "#     r=**********,                 # Rank of the update matrices. Lower value = fewer trainable parameters.\n",
    "#     lora_alpha=**********,        # LoRA scaling factor.\n",
    "#     lora_dropout=**********,      # Dropout probability for LoRA layers.\n",
    "#     bias=\"none\",\n",
    "#     task_type=**********,         # Causal Language Modeling.\n",
    "# )\n",
    "# # Wrap the base model with get_peft_model\n",
    "# model = get_peft_model(**********, **********)\n",
    "\n",
    "# <<< START SOLUTION SECTION\n",
    "lora_config = LoraConfig(\n",
    "    r=64,\n",
    "    lora_alpha=16,\n",
    "    lora_dropout=0.05,\n",
    "    bias=\"none\",\n",
    "    task_type=\"CAUSAL_LM\",\n",
    ")\n",
    "model = get_peft_model(model, lora_config)\n",
    "# >>> END SOLUTION SECTION\n",
    "\n",
    "# Print the number of trainable parameters after applying LoRA\n",
    "trainable = sum(p.numel() for p in model.parameters() if p.requires_grad)\n",
    "total = sum(p.numel() for p in model.parameters())\n",
    "print(\n",
    "    f\"Trainable params AFTER: {trainable:,} / {total:,} ({100 * trainable / total:.2f}%)\"\n",
    ")"
   ]
  },
  {
   "cell_type": "markdown",
   "id": "30c5e91b",
   "metadata": {},
   "source": [
    "Now let’s set the training arguments. We'll use `SFTConfig` from the TRL library, which is a wrapper around the standard `TrainingArguments`. We keep epochs, batch size, and sequence length modest to finish training quickly."
   ]
  },
  {
   "cell_type": "code",
   "execution_count": 10,
   "id": "9341ba79",
   "metadata": {},
   "outputs": [],
   "source": [
    "# Student task: Fill in the SFTConfig for a quick training run\n",
    "# Complete the sections with **********\n",
    "\n",
    "output_dir = \"data/model\"\n",
    "\n",
    "# See: https://huggingface.co/docs/trl/en/sft_trainer#trl.SFTConfig\n",
    "# training_args = SFTConfig(\n",
    "#     output_dir=output_dir,\n",
    "#     per_device_train_batch_size=**********,\n",
    "#     per_device_eval_batch_size=**********,\n",
    "#     gradient_accumulation_steps=**********,\n",
    "#     num_train_epochs=**********,\n",
    "#     learning_rate=**********,\n",
    "#     logging_steps=**********,\n",
    "#     evaluation_strategy=\"steps\",\n",
    "#     eval_steps=**********,\n",
    "#     save_strategy=\"no\",\n",
    "#     report_to=[],                            # disable wandb/tensorboard\n",
    "#     fp16=False,                              # stay in fp32 for CPU/MPS\n",
    "#     lr_scheduler_type=\"cosine\",\n",
    "# )\n",
    "\n",
    "# <<< START SOLUTION SECTION\n",
    "training_args = SFTConfig(\n",
    "    output_dir=output_dir,\n",
    "    per_device_train_batch_size=4,\n",
    "    per_device_eval_batch_size=4,\n",
    "    gradient_accumulation_steps=2,\n",
    "    num_train_epochs=20,\n",
    "    learning_rate=5 * 1e-4,\n",
    "    logging_steps=20,\n",
    "    eval_strategy=\"steps\",\n",
    "    eval_steps=20,\n",
    "    save_strategy=\"no\",\n",
    "    report_to=[],\n",
    "    fp16=False,\n",
    "    lr_scheduler_type=\"cosine\",\n",
    ")\n",
    "# >>> END SOLUTION SECTION"
   ]
  },
  {
   "cell_type": "markdown",
   "id": "30d14200",
   "metadata": {},
   "source": [
    "Now we define the `SFTTrainer` and run the fine-tuning process."
   ]
  },
  {
   "cell_type": "code",
   "execution_count": 11,
   "id": "011a4855",
   "metadata": {},
   "outputs": [
    {
     "data": {
      "application/vnd.jupyter.widget-view+json": {
       "model_id": "ad1546c35a3d4eada930d21d6f23f307",
       "version_major": 2,
       "version_minor": 0
      },
      "text/plain": [
       "  0%|          | 0/120 [00:00<?, ?it/s]"
      ]
     },
     "metadata": {},
     "output_type": "display_data"
    },
    {
     "name": "stdout",
     "output_type": "stream",
     "text": [
      "{'loss': 1.0707, 'grad_norm': 0.2614535689353943, 'learning_rate': 0.00046650635094610973, 'epoch': 3.33}\n"
     ]
    },
    {
     "data": {
      "application/vnd.jupyter.widget-view+json": {
       "model_id": "2116c26aa1194b5593b2c0aecb50dcdc",
       "version_major": 2,
       "version_minor": 0
      },
      "text/plain": [
       "  0%|          | 0/4 [00:00<?, ?it/s]"
      ]
     },
     "metadata": {},
     "output_type": "display_data"
    },
    {
     "name": "stdout",
     "output_type": "stream",
     "text": [
      "{'eval_loss': 0.7199432849884033, 'eval_runtime': 0.2084, 'eval_samples_per_second': 76.768, 'eval_steps_per_second': 19.192, 'eval_num_tokens': 6627.0, 'eval_mean_token_accuracy': 0.7373691648244858, 'epoch': 3.33}\n",
      "{'loss': 0.5026, 'grad_norm': 0.2868766188621521, 'learning_rate': 0.000375, 'epoch': 6.67}\n"
     ]
    },
    {
     "data": {
      "application/vnd.jupyter.widget-view+json": {
       "model_id": "07dfe1afb5e24d1aadbdb1740117f2bd",
       "version_major": 2,
       "version_minor": 0
      },
      "text/plain": [
       "  0%|          | 0/4 [00:00<?, ?it/s]"
      ]
     },
     "metadata": {},
     "output_type": "display_data"
    },
    {
     "name": "stdout",
     "output_type": "stream",
     "text": [
      "{'eval_loss': 0.5938073396682739, 'eval_runtime': 0.1677, 'eval_samples_per_second': 95.415, 'eval_steps_per_second': 23.854, 'eval_num_tokens': 13256.0, 'eval_mean_token_accuracy': 0.7946356534957886, 'epoch': 6.67}\n",
      "{'loss': 0.3479, 'grad_norm': 0.3226974904537201, 'learning_rate': 0.00025, 'epoch': 10.0}\n"
     ]
    },
    {
     "data": {
      "application/vnd.jupyter.widget-view+json": {
       "model_id": "b0ded94075134fbdb7848d2b1a1e41e9",
       "version_major": 2,
       "version_minor": 0
      },
      "text/plain": [
       "  0%|          | 0/4 [00:00<?, ?it/s]"
      ]
     },
     "metadata": {},
     "output_type": "display_data"
    },
    {
     "name": "stdout",
     "output_type": "stream",
     "text": [
      "{'eval_loss': 0.5652674436569214, 'eval_runtime': 0.1689, 'eval_samples_per_second': 94.753, 'eval_steps_per_second': 23.688, 'eval_num_tokens': 19800.0, 'eval_mean_token_accuracy': 0.8457628786563873, 'epoch': 10.0}\n",
      "{'loss': 0.2361, 'grad_norm': 0.30054569244384766, 'learning_rate': 0.00012500000000000006, 'epoch': 13.33}\n"
     ]
    },
    {
     "data": {
      "application/vnd.jupyter.widget-view+json": {
       "model_id": "05d50eda5c8b4de2b25849d75eb9e465",
       "version_major": 2,
       "version_minor": 0
      },
      "text/plain": [
       "  0%|          | 0/4 [00:00<?, ?it/s]"
      ]
     },
     "metadata": {},
     "output_type": "display_data"
    },
    {
     "name": "stdout",
     "output_type": "stream",
     "text": [
      "{'eval_loss': 0.5799983739852905, 'eval_runtime': 0.1684, 'eval_samples_per_second': 94.991, 'eval_steps_per_second': 23.748, 'eval_num_tokens': 26433.0, 'eval_mean_token_accuracy': 0.8403280973434448, 'epoch': 13.33}\n",
      "{'loss': 0.1911, 'grad_norm': 0.3515804409980774, 'learning_rate': 3.3493649053890325e-05, 'epoch': 16.67}\n"
     ]
    },
    {
     "data": {
      "application/vnd.jupyter.widget-view+json": {
       "model_id": "6efec339fe2e425fb7c6f14966308df5",
       "version_major": 2,
       "version_minor": 0
      },
      "text/plain": [
       "  0%|          | 0/4 [00:00<?, ?it/s]"
      ]
     },
     "metadata": {},
     "output_type": "display_data"
    },
    {
     "name": "stdout",
     "output_type": "stream",
     "text": [
      "{'eval_loss': 0.597210168838501, 'eval_runtime': 0.1981, 'eval_samples_per_second': 80.775, 'eval_steps_per_second': 20.194, 'eval_num_tokens': 33040.0, 'eval_mean_token_accuracy': 0.8403280973434448, 'epoch': 16.67}\n",
      "{'loss': 0.1647, 'grad_norm': 0.40748950839042664, 'learning_rate': 0.0, 'epoch': 20.0}\n"
     ]
    },
    {
     "data": {
      "application/vnd.jupyter.widget-view+json": {
       "model_id": "ec7a13ee33d24424adcd9ec9eddbe979",
       "version_major": 2,
       "version_minor": 0
      },
      "text/plain": [
       "  0%|          | 0/4 [00:00<?, ?it/s]"
      ]
     },
     "metadata": {},
     "output_type": "display_data"
    },
    {
     "name": "stdout",
     "output_type": "stream",
     "text": [
      "{'eval_loss': 0.5992292761802673, 'eval_runtime': 0.1716, 'eval_samples_per_second': 93.225, 'eval_steps_per_second': 23.306, 'eval_num_tokens': 39600.0, 'eval_mean_token_accuracy': 0.8403280973434448, 'epoch': 20.0}\n",
      "{'train_runtime': 28.6716, 'train_samples_per_second': 32.087, 'train_steps_per_second': 4.185, 'train_loss': 0.41884424289067584, 'num_tokens': 39600.0, 'mean_token_accuracy': 0.8682633362710476, 'epoch': 20.0}\n"
     ]
    },
    {
     "data": {
      "text/plain": [
       "TrainOutput(global_step=120, training_loss=0.41884424289067584, metrics={'train_runtime': 28.6716, 'train_samples_per_second': 32.087, 'train_steps_per_second': 4.185, 'total_flos': 27776639121408.0, 'train_loss': 0.41884424289067584})"
      ]
     },
     "execution_count": 11,
     "metadata": {},
     "output_type": "execute_result"
    }
   ],
   "source": [
    "# Student Task: Create and run the SFTTrainer\n",
    "# TODO: Complete the sections with **********\n",
    "\n",
    "\n",
    "# See: https://huggingface.co/docs/trl/en/sft_trainer\n",
    "# trainer = SFTTrainer(\n",
    "#     model=**********,\n",
    "#     train_dataset=**********,\n",
    "#     eval_dataset=**********,\n",
    "#     args=**********,\n",
    "# )\n",
    "# Now train it:\n",
    "# trainer.**********\n",
    "\n",
    "# <<< START SOLUTION SECTION\n",
    "trainer = SFTTrainer(\n",
    "    model=model,\n",
    "    train_dataset=ds[\"train\"],\n",
    "    eval_dataset=ds[\"test\"],\n",
    "    args=training_args,\n",
    ")\n",
    "trainer.train()\n",
    "# >>> END SOLUTION SECTION"
   ]
  },
  {
   "cell_type": "markdown",
   "id": "e30c443c",
   "metadata": {},
   "source": [
    "## Step 5. Evaluate the fine-tuned model"
   ]
  },
  {
   "cell_type": "code",
   "execution_count": 12,
   "id": "6f806e1d",
   "metadata": {},
   "outputs": [
    {
     "name": "stdout",
     "output_type": "stream",
     "text": [
      "Proposed: SPHINX. | Actual: SPHINX. | Matches: ✅\n",
      "Proposed: BRAWN. | Actual: BRAWN. | Matches: ✅\n",
      "Proposed: GOSSIPY. | Actual: GOSSIPY. | Matches: ✅\n",
      "Proposed: ENCHANT. | Actual: ENCHANT. | Matches: ✅\n",
      "Proposed: TAVENR. | Actual: TAVERN. | Matches: ❌\n",
      "Proposed: WHISTE. | Actual: WHISTLE. | Matches: ❌\n",
      "Proposed: CUPARE. | Actual: CAPTURE. | Matches: ❌\n",
      "Proposed: ECHORD. | Actual: ECHO. | Matches: ❌\n",
      "Proposed: MIRTH. | Actual: MIRTH. | Matches: ✅\n",
      "Proposed: CRISP. | Actual: CRISP. | Matches: ✅\n",
      "Proposed: ZEALOUS. | Actual: ZEALOUS. | Matches: ✅\n",
      "Proposed: EMBEU. | Actual: EMBER. | Matches: ❌\n",
      "Proposed: SCARAB. | Actual: SCARAB. | Matches: ✅\n",
      "Proposed: KINT. | Actual: KNIT. | Matches: ❌\n",
      "Proposed: RESILOS. | Actual: RESOLVE. | Matches: ❌\n",
      "Proposed: VELVET. | Actual: VELVET. | Matches: ✅\n",
      "Proposed: ABORE. | Actual: ABSOLVE. | Matches: ❌\n",
      "Proposed: LUNAR. | Actual: LUNAR. | Matches: ✅\n",
      "Proposed: MAZE. | Actual: MAZE. | Matches: ✅\n",
      "Proposed: SUMMTI. | Actual: SUMMIT. | Matches: ❌\n",
      "16.41190476190476/20.0 words correct\n"
     ]
    }
   ],
   "source": [
    "# Evaluate the fine-tuned model on the same training examples\n",
    "# No changes needed in this cell\n",
    "\n",
    "\n",
    "proportion_correct = 0.0\n",
    "\n",
    "for example in ds[\"train\"].select(range(20)):\n",
    "    prompt = example[\"prompt\"]\n",
    "    completion = example[\"completion\"]\n",
    "    result = check_spelling(\n",
    "        model=model,\n",
    "        tokenizer=tokenizer,\n",
    "        prompt=prompt,\n",
    "        actual_spelling=completion,\n",
    "        max_new_tokens=20,\n",
    "    )\n",
    "    proportion_correct += result\n",
    "\n",
    "print(f\"{proportion_correct}/20.0 words correct\")"
   ]
  },
  {
   "cell_type": "markdown",
   "id": "3bbfe48f",
   "metadata": {},
   "source": [
    "The model now performs better on the training data it has seen. But has it generalized? Let's check its performance on the unseen test set."
   ]
  },
  {
   "cell_type": "code",
   "execution_count": 13,
   "id": "af0bab9d",
   "metadata": {},
   "outputs": [
    {
     "name": "stdout",
     "output_type": "stream",
     "text": [
      "Proposed: WRIYLY. | Actual: WRYLY. | Matches: ❌\n",
      "Proposed: GLINES. | Actual: GLISTEN. | Matches: ❌\n",
      "Proposed: CASQE. | Actual: QUEST. | Matches: ❌\n",
      "Proposed: CERAVE. | Actual: CRAVE. | Matches: ❌\n",
      "Proposed: LUSIO. | Actual: LUSH. | Matches: ❌\n",
      "Proposed: FALICE. | Actual: FABLE. | Matches: ❌\n",
      "Proposed: KNARKE. | Actual: KNACK. | Matches: ❌\n",
      "Proposed: TIRUMPH. | Actual: TRIUMPH. | Matches: ❌\n",
      "Proposed: SAPICHR. | Actual: SAPPHIRE. | Matches: ❌\n",
      "Proposed: EXPSENT. | Actual: EXPOSE. | Matches: ❌\n",
      "Proposed: FSRECOS. | Actual: FRESCOS. | Matches: ❌\n",
      "Proposed: WIPS. | Actual: WISP. | Matches: ❌\n",
      "Proposed: MIRGE. | Actual: MIRAGE. | Matches: ❌\n",
      "Proposed: IVORY. | Actual: IVORY. | Matches: ✅\n",
      "Proposed: ONSHORD. | Actual: ONSET. | Matches: ❌\n",
      "Proposed: ELUDE. | Actual: ELUDE. | Matches: ✅\n",
      "8.418253968253968/16.0 words correct\n"
     ]
    }
   ],
   "source": [
    "# Evaluate the fine-tuned model on the unseen test set\n",
    "# No changes needed in this cell\n",
    "\n",
    "\n",
    "proportion_correct = 0.0\n",
    "num_examples = len(ds[\"test\"])\n",
    "\n",
    "for example in ds[\"test\"]:\n",
    "    prompt = example[\"prompt\"]\n",
    "    completion = example[\"completion\"]\n",
    "    result = check_spelling(\n",
    "        model=model,\n",
    "        tokenizer=tokenizer,\n",
    "        prompt=prompt,\n",
    "        actual_spelling=completion,\n",
    "        max_new_tokens=20,\n",
    "    )\n",
    "    proportion_correct += result\n",
    "\n",
    "print(f\"{proportion_correct}/{num_examples}.0 words correct\")"
   ]
  },
  {
   "cell_type": "markdown",
   "id": "7b02ba61",
   "metadata": {},
   "source": [
    "It looks like it has improved! Perhaps with a larger dataset and more training, it could get even better."
   ]
  },
  {
   "cell_type": "markdown",
   "id": "ed16c690",
   "metadata": {},
   "source": [
    "## Congratulations for completing the exercise! 🎉\n",
    "\n",
    "✅ You did it! You successfully fine-tuned a small language model using PEFT with LoRA to teach it a new skill: spelling! You saw how the base model failed completely at the task, and with a very small amount of data and a short training run, the model managed to get better at spelling."
   ]
  },
  {
   "cell_type": "markdown",
   "id": "7f093a0b",
   "metadata": {},
   "source": [
    "<br /><br /><br /><br /><br /><br /><br /><br /><br />"
   ]
  }
 ],
 "metadata": {
  "kernelspec": {
   "display_name": ".venv",
   "language": "python",
   "name": "python3"
  },
  "language_info": {
   "codemirror_mode": {
    "name": "ipython",
    "version": 3
   },
   "file_extension": ".py",
   "mimetype": "text/x-python",
   "name": "python",
   "nbconvert_exporter": "python",
   "pygments_lexer": "ipython3",
   "version": "3.13.0"
  }
 },
 "nbformat": 4,
 "nbformat_minor": 5
}
