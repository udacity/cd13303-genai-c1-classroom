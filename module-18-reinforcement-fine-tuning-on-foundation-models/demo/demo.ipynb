{
 "cells": [
  {
   "cell_type": "markdown",
   "id": "e672bb19",
   "metadata": {},
   "source": [
    "# Demo: Teach an LLM to Count using Group Relative Policy Optimization (GRPO)"
   ]
  },
  {
   "cell_type": "markdown",
   "id": "2e01691a",
   "metadata": {},
   "source": [
    "Let's teach an LLM to count\n",
    "\n",
    "## What you'll do in this notebook\n",
    "\n",
    "1.  **Setup**: Import libraries and configure the environment.\n",
    "2.  **Load the tokenizer and base model**: Use a small, instruction-tuned model as our starting point.\n",
    "3.  **Create the dataset**: Generate a simple dataset of words and their correct spellings.\n",
    "4.  **Evaluate the base model**: Test the model's spelling ability *before* fine-tuning to establish a baseline.\n",
    "5.  **Configure LoRA and train**: Attach a LoRA adapter to the model and fine-tune it on the spelling dataset.\n",
    "6.  **Evaluate the fine-tuned model**: Test the model again to see if its spelling has improved."
   ]
  },
  {
   "cell_type": "markdown",
   "id": "d04085e7",
   "metadata": {},
   "source": [
    "## Setup"
   ]
  },
  {
   "cell_type": "code",
   "execution_count": 1,
   "id": "97437029",
   "metadata": {},
   "outputs": [
    {
     "name": "stdout",
     "output_type": "stream",
     "text": [
      "Using device: mps\n"
     ]
    }
   ],
   "source": [
    "import os\n",
    "import torch\n",
    "from datasets import Dataset\n",
    "\n",
    "from transformers import (\n",
    "    AutoTokenizer,\n",
    "    AutoModelForCausalLM,\n",
    ")\n",
    "from peft import LoraConfig, get_peft_model\n",
    "\n",
    "# Use GPU, MPS, or CPU, in that order of preference\n",
    "if torch.cuda.is_available():\n",
    "    device = torch.device(\"cuda\")  # NVIDIA GPU\n",
    "elif torch.backends.mps.is_available():\n",
    "    device = torch.device(\"mps\")  # Apple Silicon\n",
    "else:\n",
    "    device = torch.device(\"cpu\")\n",
    "torch.set_num_threads(max(1, os.cpu_count() // 2))\n",
    "print(\"Using device:\", device)"
   ]
  },
  {
   "cell_type": "markdown",
   "id": "18f0a0d7",
   "metadata": {},
   "source": [
    "## Step 1. Load the tokenizer and base model\n",
    "\n",
    "The model `HuggingFaceTB/SmolLM2-135M-Instruct` is a small, instruction-tuned model that's suitable for this exercise. It has 135 million parameters, making it lightweight and efficient for fine-tuning. It's not the most powerful model, but it's a good choice for demonstrating the concepts of SFT and PEFT with LoRA, especially on a CPU or limited GPU resources."
   ]
  },
  {
   "cell_type": "code",
   "execution_count": 2,
   "id": "f8028ac1",
   "metadata": {},
   "outputs": [
    {
     "name": "stdout",
     "output_type": "stream",
     "text": [
      "Model parameters (total): 134515008\n"
     ]
    }
   ],
   "source": [
    "# Model ID for SmolLM2-135M-Instruct\n",
    "model_id = \"HuggingFaceTB/SmolLM2-135M-Instruct\"\n",
    "\n",
    "# Load the tokenizer\n",
    "tokenizer = AutoTokenizer.from_pretrained(model_id)\n",
    "\n",
    "# Load the model\n",
    "model = AutoModelForCausalLM.from_pretrained(\n",
    "    model_id,\n",
    ")\n",
    "\n",
    "# Copy the model to the device (GPU, MPS, or CPU)\n",
    "model = model.to(device)\n",
    "# <<< END SOLUTION SECTION\n",
    "\n",
    "print(\"Model parameters (total):\", sum(p.numel() for p in model.parameters()))"
   ]
  },
  {
   "cell_type": "markdown",
   "id": "c6665787",
   "metadata": {},
   "source": [
    "## Step 2. Create the dataset"
   ]
  },
  {
   "cell_type": "code",
   "execution_count": 3,
   "id": "bbeab6e5",
   "metadata": {},
   "outputs": [
    {
     "data": {
      "text/plain": [
       "{'prompt': 'You are a counting assistant. Count from 1 to 6 by 1. Begin: ',\n",
       " 'start': 1,\n",
       " 'end': 6}"
      ]
     },
     "execution_count": 3,
     "metadata": {},
     "output_type": "execute_result"
    }
   ],
   "source": [
    "def generate_records():\n",
    "    for start in range(1, 5):\n",
    "        for end in range(start + 5, start + 8):\n",
    "            yield {\n",
    "                # The prompt that is sent to the model\n",
    "                \"prompt\": (\n",
    "                    f\"You are a counting assistant. Count from {start} to {end} by 1. Begin: \"\n",
    "                ),\n",
    "                # Extra values sent to the reward functions\n",
    "                \"start\": start,\n",
    "                \"end\": end,\n",
    "            }\n",
    "\n",
    "\n",
    "ds = Dataset.from_generator(generate_records)\n",
    "\n",
    "ds[0]"
   ]
  },
  {
   "cell_type": "markdown",
   "id": "4b6a9436",
   "metadata": {},
   "source": [
    "## Step 3. Evaluate the base model\n",
    "\n",
    "Before we fine-tune the model, let's see how it performs on the spelling task. We'll create a helper function to generate a spelling for a given word and compare it to the correct answer."
   ]
  },
  {
   "cell_type": "code",
   "execution_count": 4,
   "id": "6581c243",
   "metadata": {},
   "outputs": [],
   "source": [
    "# Create a helper function that will help us visualize the performance of the model\n",
    "\n",
    "\n",
    "def check_counting(\n",
    "    model, tokenizer, prompt: str, start: int, end: int, max_new_tokens: int = 30\n",
    ") -> (str, str):\n",
    "    inputs = tokenizer(prompt, return_tensors=\"pt\").to(device)\n",
    "    gen = model.generate(\n",
    "        **inputs, max_new_tokens=max_new_tokens\n",
    "    )  # No parameters = greedy search\n",
    "    output = tokenizer.decode(gen[0], skip_special_tokens=True)\n",
    "\n",
    "    # Create the actual counting string\n",
    "    actual_counting = \", \".join(str(i) for i in range(start, end + 1)) + \".\"\n",
    "\n",
    "    # Extract the generated counting from the full output string\n",
    "    proposed_counting = output.split(\"Begin:\")[-1].strip().split(\"\\n\")[0].strip()\n",
    "\n",
    "    # strip any whitepsace from the actual counting\n",
    "    actual_counting = actual_counting.strip()\n",
    "\n",
    "    print(\n",
    "        f\"Proposed: {proposed_counting} | Actual: {actual_counting} \"\n",
    "        f\"| Matches: {'✅' if proposed_counting == actual_counting else '❌'}\"\n",
    "    )\n",
    "\n",
    "    # Calculate the proportion of the counting that was correct\n",
    "    num_correct = sum(1 for a, b in zip(actual_counting, proposed_counting) if a == b)\n",
    "\n",
    "    return num_correct / len(actual_counting)  # Return proportion correct\n"
   ]
  },
  {
   "cell_type": "code",
   "execution_count": 5,
   "id": "7642646c",
   "metadata": {},
   "outputs": [
    {
     "name": "stdout",
     "output_type": "stream",
     "text": [
      "Proposed: 1, 2, 3, 4, 5, 6. | Actual: 1, 2, 3, 4, 5, 6. | Matches: ✅\n",
      "Proposed: 1, 2, 3, 4, 5, 6, 7. | Actual: 1, 2, 3, 4, 5, 6, 7. | Matches: ✅\n",
      "Proposed: 1, 2, 3, 4, 5, 6, 7, 8. | Actual: 1, 2, 3, 4, 5, 6, 7, 8. | Matches: ✅\n",
      "Proposed: 2, 3, 4, 5, 6, 7. | Actual: 2, 3, 4, 5, 6, 7. | Matches: ✅\n",
      "Proposed: 2, 4, 6, 8, 10, 12, 14, 16, 18 | Actual: 2, 3, 4, 5, 6, 7, 8. | Matches: ❌\n",
      "Proposed: 2, 3, 4, 5, 6, 7, 8, 9. | Actual: 2, 3, 4, 5, 6, 7, 8, 9. | Matches: ✅\n",
      "Proposed: 3, 4, 5, 6, 7, 8. | Actual: 3, 4, 5, 6, 7, 8. | Matches: ✅\n",
      "Proposed: 3, 4, 5, 6, 7, 8, 9. | Actual: 3, 4, 5, 6, 7, 8, 9. | Matches: ✅\n",
      "Proposed: 1, 2, 3, 4, 5, 6, 7, 8, 9, 10. | Actual: 3, 4, 5, 6, 7, 8, 9, 10. | Matches: ❌\n",
      "Proposed: 4, 5, 6, 7, 8, 9. | Actual: 4, 5, 6, 7, 8, 9. | Matches: ✅\n",
      "Proposed: 1, 2, 3, 4, 5, 6, 7, 8, 9, 10. | Actual: 4, 5, 6, 7, 8, 9, 10. | Matches: ❌\n",
      "Proposed: 4, 5, 6, 7, 8, 9, 10, 11. | Actual: 4, 5, 6, 7, 8, 9, 10, 11. | Matches: ✅\n",
      "10.604761904761904/12 sequences correct\n"
     ]
    }
   ],
   "source": [
    "# Evaluate the base model's counting ability\n",
    "proportion_correct = 0.0\n",
    "\n",
    "for example in ds:\n",
    "    prompt = example[\"prompt\"]\n",
    "    start = example[\"start\"]\n",
    "    end = example[\"end\"]\n",
    "    result = check_counting(\n",
    "        model=model,\n",
    "        tokenizer=tokenizer,\n",
    "        prompt=prompt,\n",
    "        start=start,\n",
    "        end=end,\n",
    "    )\n",
    "    proportion_correct += result\n",
    "\n",
    "print(f\"{proportion_correct}/{len(ds)} sequences correct\")"
   ]
  },
  {
   "cell_type": "markdown",
   "id": "e7c6563f",
   "metadata": {},
   "source": [
    "The model sometimes decides to count by 2's or 3's, but not always. Let's encourage it to always count by 1's using GRPO."
   ]
  },
  {
   "cell_type": "markdown",
   "id": "d1e7ef15",
   "metadata": {},
   "source": [
    "## Step 4. Configure LoRA and train the model"
   ]
  },
  {
   "cell_type": "markdown",
   "id": "403a39e8",
   "metadata": {},
   "source": [
    "Let’s attach a LoRA adapter to the base model. We use a LoRA config so only a tiny fraction of parameters are trainable. Read more here: [LoRA](https://huggingface.co/docs/peft/main/en/conceptual_guides/lora)."
   ]
  },
  {
   "cell_type": "code",
   "execution_count": 6,
   "id": "d1b8d596",
   "metadata": {},
   "outputs": [
    {
     "name": "stdout",
     "output_type": "stream",
     "text": [
      "Trainable params BEFORE: 134,515,008 / 134,515,008 (100.00%)\n",
      "Trainable params AFTER: 3,686,400 / 138,201,408 (2.67%)\n"
     ]
    }
   ],
   "source": [
    "# Print how many params are trainable at first\n",
    "trainable = sum(p.numel() for p in model.parameters() if p.requires_grad)\n",
    "total = sum(p.numel() for p in model.parameters())\n",
    "print(\n",
    "    f\"Trainable params BEFORE: {trainable:,} / {total:,} ({100 * trainable / total:.2f}%)\"\n",
    ")\n",
    "\n",
    "lora_config = LoraConfig(\n",
    "    r=64,\n",
    "    lora_alpha=16,\n",
    "    lora_dropout=0.05,\n",
    "    bias=\"none\",\n",
    "    task_type=\"CAUSAL_LM\",\n",
    ")\n",
    "model = get_peft_model(model, lora_config)\n",
    "\n",
    "# Print the number of trainable parameters after applying LoRA\n",
    "trainable = sum(p.numel() for p in model.parameters() if p.requires_grad)\n",
    "total = sum(p.numel() for p in model.parameters())\n",
    "print(\n",
    "    f\"Trainable params AFTER: {trainable:,} / {total:,} ({100 * trainable / total:.2f}%)\"\n",
    ")"
   ]
  },
  {
   "cell_type": "markdown",
   "id": "2d995e64",
   "metadata": {},
   "source": [
    "Let's create some reward functions."
   ]
  },
  {
   "cell_type": "code",
   "execution_count": 7,
   "id": "7cdd92ec",
   "metadata": {},
   "outputs": [],
   "source": [
    "def reward_starting_at_start(\n",
    "    completions: list[str], start: list[int], **kwargs\n",
    ") -> list[float]:\n",
    "    \"\"\"Reward function that rewards completions that start with the given start value.\n",
    "\n",
    "    NOTE: start is a list of ints, collected from the original dataset and passed\n",
    "    to the reward function by the GRPO trainer.\n",
    "    \"\"\"\n",
    "\n",
    "    # start is actually a list of ints, but completions is a list of strings\n",
    "    # Let's rename start to start_list to avoid confusion\n",
    "    start_list = start\n",
    "\n",
    "    return [\n",
    "        1.0 if completion.startswith(str(start)) else 0.0\n",
    "        for completion, start in zip(completions, start_list)\n",
    "    ]\n",
    "\n",
    "\n",
    "assert reward_starting_at_start(\n",
    "    completions=[\n",
    "        \"1, 2, 3\",\n",
    "        \"2, 3, 4\",\n",
    "    ],\n",
    "    start=[1, 1],\n",
    ") == [1.0, 0.0]"
   ]
  },
  {
   "cell_type": "code",
   "execution_count": 8,
   "id": "f95fb5c2",
   "metadata": {},
   "outputs": [],
   "source": [
    "def reward_using_comma_separated_numbers(\n",
    "    completions: list[str], **kwargs\n",
    ") -> list[float]:\n",
    "    \"\"\"Reward function that rewards completions that use comma-separated numbers.\"\"\"\n",
    "\n",
    "    return [1.0 if \", \" in completion else 0.0 for completion in completions]\n",
    "\n",
    "\n",
    "assert reward_using_comma_separated_numbers(completions=[\"1, 2, 3\", \"2 3 4\"]) == [\n",
    "    1.0,\n",
    "    0.0,\n",
    "]"
   ]
  },
  {
   "cell_type": "code",
   "execution_count": 9,
   "id": "83641363",
   "metadata": {},
   "outputs": [],
   "source": [
    "def reward_counting_by_one(completions: list[str], **kwargs) -> list[float]:\n",
    "    \"\"\"Reward function that rewards completions that count by 1.\"\"\"\n",
    "\n",
    "    import re\n",
    "\n",
    "    rewards = []\n",
    "\n",
    "    for completion in completions:\n",
    "        # split on all groups of non-numeric characters\n",
    "        completion = re.split(r\"[^0-9]+\", completion)\n",
    "\n",
    "        # get the numbers as ints\n",
    "        numbers = [int(c) for c in completion if c and c.isdigit()]\n",
    "\n",
    "        # get all the differences between consecutive numbers\n",
    "        differences = [numbers[i] - numbers[i - 1] for i in range(1, len(numbers))]\n",
    "\n",
    "        # Check if the differences are all 1\n",
    "        if all(d == 1 for d in differences):\n",
    "            rewards.append(1.0)\n",
    "        else:\n",
    "            rewards.append(0.0)\n",
    "\n",
    "    return rewards\n",
    "\n",
    "\n",
    "assert reward_counting_by_one(completions=[\"1, 2, 3, 4.\", \"2, 4, 6, 8.\"]) == [1.0, 0.0]"
   ]
  },
  {
   "cell_type": "code",
   "execution_count": 10,
   "id": "2c5b5092",
   "metadata": {},
   "outputs": [],
   "source": [
    "def reward_ending_at_end(\n",
    "    completions: list[str], end: list[int], **kwargs\n",
    ") -> list[float]:\n",
    "    \"\"\"Reward function that rewards completions that end with the given end value.\n",
    "\n",
    "    NOTE: end is a list of ints, collected from the original dataset and passed\n",
    "    to the reward function by the GRPO trainer.\n",
    "    \"\"\"\n",
    "\n",
    "    # end is actually a list of ints, but completions is a list of strings\n",
    "    # Let's rename end to end_list to avoid confusion\n",
    "    end_list = end\n",
    "\n",
    "    # Remove any punctuation from the end of the completions\n",
    "    completions = [completion.rstrip(\".,!?\") for completion in completions]\n",
    "\n",
    "    return [\n",
    "        1.0 if completion.endswith(str(end)) else 0.0\n",
    "        for completion, end in zip(completions, end_list)\n",
    "    ]\n",
    "\n",
    "\n",
    "assert reward_ending_at_end(\n",
    "    completions=[\"1, 2, 3, 4.\", \"2, 4, 6\"],\n",
    "    end=[4, 8],\n",
    ") == [1.0, 0.0]\n"
   ]
  },
  {
   "cell_type": "code",
   "execution_count": 11,
   "id": "f8a9d1e3",
   "metadata": {},
   "outputs": [
    {
     "data": {
      "application/vnd.jupyter.widget-view+json": {
       "model_id": "db9a9be39e1044349313d323a9de3f1a",
       "version_major": 2,
       "version_minor": 0
      },
      "text/plain": [
       "  0%|          | 0/60 [00:00<?, ?it/s]"
      ]
     },
     "metadata": {},
     "output_type": "display_data"
    },
    {
     "name": "stdout",
     "output_type": "stream",
     "text": [
      "{'loss': 0.0188, 'grad_norm': 0.056217096745967865, 'learning_rate': 4.914814565722671e-05, 'num_tokens': 3961.0, 'completions/mean_length': 29.2125, 'completions/min_length': 21.6, 'completions/max_length': 30.0, 'completions/clipped_ratio': 0.9, 'completions/mean_terminated_length': 17.56666679382324, 'completions/min_terminated_length': 15.6, 'completions/max_terminated_length': 19.0, 'rewards/reward_starting_at_start/mean': 0.625, 'rewards/reward_starting_at_start/std': 0.437181681394577, 'rewards/reward_using_comma_separated_numbers/mean': 0.7, 'rewards/reward_using_comma_separated_numbers/std': 0.45596792697906496, 'rewards/reward_counting_by_one/mean': 0.15, 'rewards/reward_counting_by_one/std': 0.35669130086898804, 'rewards/reward_ending_at_end/mean': 0.0875, 'rewards/reward_ending_at_end/std': 0.2866260051727295, 'reward': 1.5625, 'reward_std': 0.8154979825019837, 'clip_ratio/low_mean': 0.0, 'clip_ratio/low_min': 0.0, 'clip_ratio/high_mean': 0.0, 'clip_ratio/high_max': 0.0, 'clip_ratio/region_mean': 0.0, 'epoch': 0.83}\n",
      "{'loss': 0.0153, 'grad_norm': 0.04849156364798546, 'learning_rate': 4.665063509461097e-05, 'num_tokens': 7922.0, 'completions/mean_length': 29.2125, 'completions/min_length': 22.6, 'completions/max_length': 30.0, 'completions/clipped_ratio': 0.8958333333333334, 'completions/mean_terminated_length': 18.8, 'completions/min_terminated_length': 16.6, 'completions/max_terminated_length': 21.8, 'rewards/reward_starting_at_start/mean': 0.525, 'rewards/reward_starting_at_start/std': 0.511498111486435, 'rewards/reward_using_comma_separated_numbers/mean': 0.6625, 'rewards/reward_using_comma_separated_numbers/std': 0.4673352539539337, 'rewards/reward_counting_by_one/mean': 0.1125, 'rewards/reward_counting_by_one/std': 0.3172485828399658, 'rewards/reward_ending_at_end/mean': 0.075, 'rewards/reward_ending_at_end/std': 0.1894427180290222, 'reward': 1.375, 'reward_std': 0.7572048544883728, 'clip_ratio/low_mean': 0.0, 'clip_ratio/low_min': 0.0, 'clip_ratio/high_mean': 0.0, 'clip_ratio/high_max': 0.0, 'clip_ratio/region_mean': 0.0, 'epoch': 1.67}\n",
      "{'loss': 0.0138, 'grad_norm': 0.05403038114309311, 'learning_rate': 4.267766952966369e-05, 'num_tokens': 11896.0, 'completions/mean_length': 29.575, 'completions/min_length': 25.6, 'completions/max_length': 30.0, 'completions/clipped_ratio': 0.9625, 'completions/mean_terminated_length': 7.7, 'completions/min_terminated_length': 7.6, 'completions/max_terminated_length': 7.8, 'rewards/reward_starting_at_start/mean': 0.775, 'rewards/reward_starting_at_start/std': 0.4095079958438873, 'rewards/reward_using_comma_separated_numbers/mean': 0.725, 'rewards/reward_using_comma_separated_numbers/std': 0.4598135590553284, 'rewards/reward_counting_by_one/mean': 0.1, 'rewards/reward_counting_by_one/std': 0.2894427180290222, 'rewards/reward_ending_at_end/mean': 0.05, 'rewards/reward_ending_at_end/std': 0.13062257766723634, 'reward': 1.65, 'reward_std': 0.7205718874931335, 'clip_ratio/low_mean': 0.0, 'clip_ratio/low_min': 0.0, 'clip_ratio/high_mean': 0.0, 'clip_ratio/high_max': 0.0, 'clip_ratio/region_mean': 0.0, 'epoch': 2.5}\n",
      "{'loss': -0.0053, 'grad_norm': 0.047696229070425034, 'learning_rate': 3.7500000000000003e-05, 'num_tokens': 15851.0, 'completions/mean_length': 29.225, 'completions/min_length': 19.2, 'completions/max_length': 30.0, 'completions/clipped_ratio': 0.9208333333333334, 'completions/mean_terminated_length': 20.8, 'completions/min_terminated_length': 19.2, 'completions/max_terminated_length': 22.4, 'rewards/reward_starting_at_start/mean': 0.625, 'rewards/reward_starting_at_start/std': 0.4845838487148285, 'rewards/reward_using_comma_separated_numbers/mean': 0.6125, 'rewards/reward_using_comma_separated_numbers/std': 0.4972344696521759, 'rewards/reward_counting_by_one/mean': 0.1, 'rewards/reward_counting_by_one/std': 0.22006528973579406, 'rewards/reward_ending_at_end/mean': 0.075, 'rewards/reward_ending_at_end/std': 0.23062257766723632, 'reward': 1.4125, 'reward_std': 0.7439244627952576, 'clip_ratio/low_mean': 0.0, 'clip_ratio/low_min': 0.0, 'clip_ratio/high_mean': 0.0, 'clip_ratio/high_max': 0.0, 'clip_ratio/region_mean': 0.0, 'epoch': 3.33}\n",
      "{'loss': 0.004, 'grad_norm': 0.06322865933179855, 'learning_rate': 3.147047612756302e-05, 'num_tokens': 19791.0, 'completions/mean_length': 28.804166793823242, 'completions/min_length': 17.8, 'completions/max_length': 30.0, 'completions/clipped_ratio': 0.8791666666666667, 'completions/mean_terminated_length': 20.4, 'completions/min_terminated_length': 17.8, 'completions/max_terminated_length': 23.0, 'rewards/reward_starting_at_start/mean': 0.6375, 'rewards/reward_starting_at_start/std': 0.4651642322540283, 'rewards/reward_using_comma_separated_numbers/mean': 0.675, 'rewards/reward_using_comma_separated_numbers/std': 0.469087553024292, 'rewards/reward_counting_by_one/mean': 0.125, 'rewards/reward_counting_by_one/std': 0.28236871361732485, 'rewards/reward_ending_at_end/mean': 0.0375, 'rewards/reward_ending_at_end/std': 0.11831300258636475, 'reward': 1.475, 'reward_std': 0.7263281941413879, 'clip_ratio/low_mean': 0.0, 'clip_ratio/low_min': 0.0, 'clip_ratio/high_mean': 0.0, 'clip_ratio/high_max': 0.0, 'clip_ratio/region_mean': 0.0, 'epoch': 4.17}\n",
      "{'loss': 0.0158, 'grad_norm': 0.0624055489897728, 'learning_rate': 2.5e-05, 'num_tokens': 23751.0, 'completions/mean_length': 29.6625, 'completions/min_length': 24.8, 'completions/max_length': 30.0, 'completions/clipped_ratio': 0.9083333333333334, 'completions/mean_terminated_length': 20.966666793823244, 'completions/min_terminated_length': 18.8, 'completions/max_terminated_length': 22.2, 'rewards/reward_starting_at_start/mean': 0.575, 'rewards/reward_starting_at_start/std': 0.4732671618461609, 'rewards/reward_using_comma_separated_numbers/mean': 0.675, 'rewards/reward_using_comma_separated_numbers/std': 0.4725347876548767, 'rewards/reward_counting_by_one/mean': 0.1875, 'rewards/reward_counting_by_one/std': 0.39962345361709595, 'rewards/reward_ending_at_end/mean': 0.0875, 'rewards/reward_ending_at_end/std': 0.24893558025360107, 'reward': 1.525, 'reward_std': 0.791827654838562, 'clip_ratio/low_mean': 0.0, 'clip_ratio/low_min': 0.0, 'clip_ratio/high_mean': 0.0, 'clip_ratio/high_max': 0.0, 'clip_ratio/region_mean': 0.0, 'epoch': 5.0}\n",
      "{'loss': 0.0063, 'grad_norm': 0.04388080909848213, 'learning_rate': 1.852952387243698e-05, 'num_tokens': 27742.0, 'completions/mean_length': 29.6875, 'completions/min_length': 26.4, 'completions/max_length': 30.0, 'completions/clipped_ratio': 0.925, 'completions/mean_terminated_length': 16.1, 'completions/min_terminated_length': 14.4, 'completions/max_terminated_length': 17.2, 'rewards/reward_starting_at_start/mean': 0.6, 'rewards/reward_starting_at_start/std': 0.45740850567817687, 'rewards/reward_using_comma_separated_numbers/mean': 0.7125, 'rewards/reward_using_comma_separated_numbers/std': 0.4531573712825775, 'rewards/reward_counting_by_one/mean': 0.175, 'rewards/reward_counting_by_one/std': 0.38731387853622434, 'rewards/reward_ending_at_end/mean': 0.0875, 'rewards/reward_ending_at_end/std': 0.21724858283996581, 'reward': 1.575, 'reward_std': 0.7620361924171448, 'clip_ratio/low_mean': 0.0, 'clip_ratio/low_min': 0.0, 'clip_ratio/high_mean': 0.0, 'clip_ratio/high_max': 0.0, 'clip_ratio/region_mean': 0.0, 'epoch': 5.83}\n",
      "{'loss': -0.0105, 'grad_norm': 0.057718537747859955, 'learning_rate': 1.2500000000000006e-05, 'num_tokens': 31693.0, 'completions/mean_length': 29.1875, 'completions/min_length': 21.6, 'completions/max_length': 30.0, 'completions/clipped_ratio': 0.9125, 'completions/mean_terminated_length': 13.266666793823243, 'completions/min_terminated_length': 9.6, 'completions/max_terminated_length': 16.4, 'rewards/reward_starting_at_start/mean': 0.75, 'rewards/reward_starting_at_start/std': 0.4277703702449799, 'rewards/reward_using_comma_separated_numbers/mean': 0.7, 'rewards/reward_using_comma_separated_numbers/std': 0.4678506970405579, 'rewards/reward_counting_by_one/mean': 0.1625, 'rewards/reward_counting_by_one/std': 0.3278210163116455, 'rewards/reward_ending_at_end/mean': 0.0125, 'rewards/reward_ending_at_end/std': 0.05, 'reward': 1.625, 'reward_std': 0.6517433762550354, 'clip_ratio/low_mean': 0.0, 'clip_ratio/low_min': 0.0, 'clip_ratio/high_mean': 0.0, 'clip_ratio/high_max': 0.0, 'clip_ratio/region_mean': 0.0, 'epoch': 6.67}\n",
      "{'loss': -0.0166, 'grad_norm': 0.06075460463762283, 'learning_rate': 7.3223304703363135e-06, 'num_tokens': 35596.0, 'completions/mean_length': 28.45, 'completions/min_length': 17.8, 'completions/max_length': 30.0, 'completions/clipped_ratio': 0.8583333333333334, 'completions/mean_terminated_length': 14.95, 'completions/min_terminated_length': 11.8, 'completions/max_terminated_length': 18.4, 'rewards/reward_starting_at_start/mean': 0.6375, 'rewards/reward_starting_at_start/std': 0.4464244246482849, 'rewards/reward_using_comma_separated_numbers/mean': 0.7625, 'rewards/reward_using_comma_separated_numbers/std': 0.4278210043907166, 'rewards/reward_counting_by_one/mean': 0.1375, 'rewards/reward_counting_by_one/std': 0.344381719827652, 'rewards/reward_ending_at_end/mean': 0.0875, 'rewards/reward_ending_at_end/std': 0.2866260051727295, 'reward': 1.625, 'reward_std': 0.750505781173706, 'clip_ratio/low_mean': 0.0, 'clip_ratio/low_min': 0.0, 'clip_ratio/high_mean': 0.0, 'clip_ratio/high_max': 0.0, 'clip_ratio/region_mean': 0.0, 'epoch': 7.5}\n",
      "{'loss': -0.0304, 'grad_norm': 0.06298836320638657, 'learning_rate': 3.3493649053890326e-06, 'num_tokens': 39494.0, 'completions/mean_length': 28.3, 'completions/min_length': 12.6, 'completions/max_length': 30.0, 'completions/clipped_ratio': 0.8458333333333334, 'completions/mean_terminated_length': 19.95999984741211, 'completions/min_terminated_length': 12.6, 'completions/max_terminated_length': 27.2, 'rewards/reward_starting_at_start/mean': 0.525, 'rewards/reward_starting_at_start/std': 0.47074700593948365, 'rewards/reward_using_comma_separated_numbers/mean': 0.675, 'rewards/reward_using_comma_separated_numbers/std': 0.4630779683589935, 'rewards/reward_counting_by_one/mean': 0.2, 'rewards/reward_counting_by_one/std': 0.3964305818080902, 'rewards/reward_ending_at_end/mean': 0.075, 'rewards/reward_ending_at_end/std': 0.20493900775909424, 'reward': 1.475, 'reward_std': 0.7699044346809387, 'clip_ratio/low_mean': 0.0, 'clip_ratio/low_min': 0.0, 'clip_ratio/high_mean': 0.0, 'clip_ratio/high_max': 0.0, 'clip_ratio/region_mean': 0.0, 'epoch': 8.33}\n",
      "{'loss': -0.0026, 'grad_norm': 0.05985545367002487, 'learning_rate': 8.51854342773295e-07, 'num_tokens': 43419.0, 'completions/mean_length': 28.8625, 'completions/min_length': 20.0, 'completions/max_length': 30.0, 'completions/clipped_ratio': 0.9, 'completions/mean_terminated_length': 14.9, 'completions/min_terminated_length': 14.0, 'completions/max_terminated_length': 15.8, 'rewards/reward_starting_at_start/mean': 0.6875, 'rewards/reward_starting_at_start/std': 0.39519177079200746, 'rewards/reward_using_comma_separated_numbers/mean': 0.7, 'rewards/reward_using_comma_separated_numbers/std': 0.3880310893058777, 'rewards/reward_counting_by_one/mean': 0.1875, 'rewards/reward_counting_by_one/std': 0.3901244282722473, 'rewards/reward_ending_at_end/mean': 0.0625, 'rewards/reward_ending_at_end/std': 0.21831300258636474, 'reward': 1.6375, 'reward_std': 0.694525295495987, 'clip_ratio/low_mean': 0.0, 'clip_ratio/low_min': 0.0, 'clip_ratio/high_mean': 0.0, 'clip_ratio/high_max': 0.0, 'clip_ratio/region_mean': 0.0, 'epoch': 9.17}\n",
      "{'loss': 0.0076, 'grad_norm': 0.08047856390476227, 'learning_rate': 0.0, 'num_tokens': 47343.0, 'completions/mean_length': 28.775, 'completions/min_length': 15.4, 'completions/max_length': 30.0, 'completions/clipped_ratio': 0.85, 'completions/mean_terminated_length': 20.7, 'completions/min_terminated_length': 15.4, 'completions/max_terminated_length': 24.8, 'rewards/reward_starting_at_start/mean': 0.675, 'rewards/reward_starting_at_start/std': 0.46197749972343444, 'rewards/reward_using_comma_separated_numbers/mean': 0.6875, 'rewards/reward_using_comma_separated_numbers/std': 0.4746281266212463, 'rewards/reward_counting_by_one/mean': 0.225, 'rewards/reward_counting_by_one/std': 0.403157377243042, 'rewards/reward_ending_at_end/mean': 0.05, 'rewards/reward_ending_at_end/std': 0.16831300258636475, 'reward': 1.6375, 'reward_std': 0.7785871863365174, 'clip_ratio/low_mean': 0.0, 'clip_ratio/low_min': 0.0, 'clip_ratio/high_mean': 0.0, 'clip_ratio/high_max': 0.0, 'clip_ratio/region_mean': 0.0, 'epoch': 10.0}\n",
      "{'train_runtime': 112.8514, 'train_samples_per_second': 1.063, 'train_steps_per_second': 0.532, 'train_loss': 0.0013605887691179911, 'epoch': 10.0}\n"
     ]
    },
    {
     "data": {
      "text/plain": [
       "TrainOutput(global_step=60, training_loss=0.0013605887691179911, metrics={'train_runtime': 112.8514, 'train_samples_per_second': 1.063, 'train_steps_per_second': 0.532, 'total_flos': 0.0, 'train_loss': 0.0013605887691179911})"
      ]
     },
     "execution_count": 11,
     "metadata": {},
     "output_type": "execute_result"
    }
   ],
   "source": [
    "from trl import GRPOConfig, GRPOTrainer\n",
    "\n",
    "training_args = GRPOConfig(\n",
    "    output_dir=\"data/counting-grpo\",\n",
    "    max_completion_length=30,  # The maximum number of tokens to generate\n",
    "    logging_steps=5,  # Log every 5 steps\n",
    "    learning_rate=5e-5,  # The learning rate for the optimizer\n",
    "    num_train_epochs=10,  # We'll train just for a few epochs\n",
    "    per_device_train_batch_size=16,  # The batch size for training\n",
    "    num_generations=8,  # Determines the number of completions to compute for each single prompt\n",
    "    # per_device_train_batch_size / num_generations determines the number of simultaneous prompts to consider\n",
    "    lr_scheduler_type=\"cosine\",  # Use a cosine scheduler to reduce the learning rate over time\n",
    "    beta=0.0,  # beta=0.0 means no KL penalty\n",
    ")\n",
    "trainer = GRPOTrainer(\n",
    "    model=model,\n",
    "    reward_funcs=[\n",
    "        reward_starting_at_start,\n",
    "        reward_using_comma_separated_numbers,\n",
    "        reward_counting_by_one,\n",
    "        reward_ending_at_end,\n",
    "    ],\n",
    "    args=training_args,\n",
    "    train_dataset=ds,\n",
    ")\n",
    "trainer.train()"
   ]
  },
  {
   "cell_type": "code",
   "execution_count": 12,
   "id": "f29a79e4",
   "metadata": {},
   "outputs": [
    {
     "data": {
      "image/png": "[encoded data removed]",
      "text/plain": [
       "<Figure size 640x480 with 1 Axes>"
      ]
     },
     "metadata": {},
     "output_type": "display_data"
    },
    {
     "name": "stdout",
     "output_type": "stream",
     "text": [
      "available columns:\n",
      "loss\n",
      "grad_norm\n",
      "learning_rate\n",
      "num_tokens\n",
      "completions/mean_length\n",
      "completions/min_length\n",
      "completions/max_length\n",
      "completions/clipped_ratio\n",
      "completions/mean_terminated_length\n",
      "completions/min_terminated_length\n",
      "completions/max_terminated_length\n",
      "rewards/reward_starting_at_start/mean\n",
      "rewards/reward_starting_at_start/std\n",
      "rewards/reward_using_comma_separated_numbers/mean\n",
      "rewards/reward_using_comma_separated_numbers/std\n",
      "rewards/reward_counting_by_one/mean\n",
      "rewards/reward_counting_by_one/std\n",
      "rewards/reward_ending_at_end/mean\n",
      "rewards/reward_ending_at_end/std\n",
      "reward\n",
      "reward_std\n",
      "clip_ratio/low_mean\n",
      "clip_ratio/low_min\n",
      "clip_ratio/high_mean\n",
      "clip_ratio/high_max\n",
      "clip_ratio/region_mean\n",
      "epoch\n",
      "step\n"
     ]
    }
   ],
   "source": [
    "import pandas as pd\n",
    "import matplotlib.pyplot as plt\n",
    "\n",
    "log_df = pd.DataFrame(trainer.state.log_history)\n",
    "log_df[\"reward\"].plot()\n",
    "\n",
    "# Show the legend\n",
    "plt.legend([\"reward\"])\n",
    "plt.show()\n",
    "\n",
    "# If you want to graph other columns, check these out\n",
    "print(\"available columns:\")\n",
    "for key in trainer.state.log_history[0].keys():\n",
    "    print(key)\n"
   ]
  },
  {
   "cell_type": "markdown",
   "id": "e30c443c",
   "metadata": {},
   "source": [
    "## Step 5. Evaluate the fine-tuned model"
   ]
  },
  {
   "cell_type": "code",
   "execution_count": 13,
   "id": "6f806e1d",
   "metadata": {},
   "outputs": [
    {
     "name": "stdout",
     "output_type": "stream",
     "text": [
      "Proposed: 1, 2, 3, 4, 5, 6. | Actual: 1, 2, 3, 4, 5, 6. | Matches: ✅\n",
      "Proposed: 1, 2, 3, 4, 5, 6, 7. | Actual: 1, 2, 3, 4, 5, 6, 7. | Matches: ✅\n",
      "Proposed: 1, 2, 3, 4, 5, 6, 7, 8. | Actual: 1, 2, 3, 4, 5, 6, 7, 8. | Matches: ✅\n",
      "Proposed: 2, 3, 4, 5, 6, 7. | Actual: 2, 3, 4, 5, 6, 7. | Matches: ✅\n",
      "Proposed: 2, 4, 6, 8, 10, 12, 14, 16, 18 | Actual: 2, 3, 4, 5, 6, 7, 8. | Matches: ❌\n",
      "Proposed: 2, 3, 4, 5, 6, 7, 8, 9. | Actual: 2, 3, 4, 5, 6, 7, 8, 9. | Matches: ✅\n",
      "Proposed: 3, 4, 5, 6, 7, 8. | Actual: 3, 4, 5, 6, 7, 8. | Matches: ✅\n",
      "Proposed: 3, 4, 5, 6, 7, 8, 9. | Actual: 3, 4, 5, 6, 7, 8, 9. | Matches: ✅\n",
      "Proposed: 1, 2, 3, 4, 5, 6, 7, 8, 9, 10. | Actual: 3, 4, 5, 6, 7, 8, 9, 10. | Matches: ❌\n",
      "Proposed: 4, 5, 6, 7, 8, 9. | Actual: 4, 5, 6, 7, 8, 9. | Matches: ✅\n",
      "Proposed: 4, 5, 6, 7, 8, 9, 10. | Actual: 4, 5, 6, 7, 8, 9, 10. | Matches: ✅\n",
      "Proposed: 4, 5, 6, 7, 8, 9, 10, 11. | Actual: 4, 5, 6, 7, 8, 9, 10, 11. | Matches: ✅\n",
      "11.033333333333333/12 sequences correct\n"
     ]
    }
   ],
   "source": [
    "# Evaluate the fine-tuned model on the same training examples\n",
    "# No changes needed in this cell\n",
    "\n",
    "proportion_correct = 0.0\n",
    "\n",
    "for example in ds:\n",
    "    prompt = example[\"prompt\"]\n",
    "    start = example[\"start\"]\n",
    "    end = example[\"end\"]\n",
    "    result = check_counting(\n",
    "        model=model,\n",
    "        tokenizer=tokenizer,\n",
    "        prompt=prompt,\n",
    "        start=start,\n",
    "        end=end,\n",
    "    )\n",
    "    proportion_correct += result\n",
    "\n",
    "print(f\"{proportion_correct}/{len(ds)} sequences correct\")"
   ]
  },
  {
   "cell_type": "markdown",
   "id": "3bbfe48f",
   "metadata": {},
   "source": [
    "The model now performs a little better on the training data it has seen."
   ]
  },
  {
   "cell_type": "markdown",
   "id": "7f093a0b",
   "metadata": {},
   "source": [
    "<br /><br /><br /><br /><br /><br /><br /><br /><br />"
   ]
  }
 ],
 "metadata": {
  "kernelspec": {
   "display_name": "Python 3 (ipykernel)",
   "language": "python",
   "name": "python3"
  },
  "language_info": {
   "codemirror_mode": {
    "name": "ipython",
    "version": 3
   },
   "file_extension": ".py",
   "mimetype": "text/x-python",
   "name": "python",
   "nbconvert_exporter": "python",
   "pygments_lexer": "ipython3",
   "version": "3.13.0"
  }
 },
 "nbformat": 4,
 "nbformat_minor": 5
}
