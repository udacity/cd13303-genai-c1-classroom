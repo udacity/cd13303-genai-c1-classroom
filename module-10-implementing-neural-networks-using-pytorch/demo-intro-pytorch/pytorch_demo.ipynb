{
  "nbformat": 4,
  "nbformat_minor": 0,
  "metadata": {
    "colab": {
      "provenance": []
    },
    "kernelspec": {
      "name": "python3",
      "display_name": "Python 3"
    },
    "language_info": {
      "name": "python"
    }
  },
  "cells": [
    {
      "cell_type": "markdown",
      "source": [
        "# Introduction to PyTorch\n",
        "\n",
        "PyTorch is a key tool for machine learning and deep learning. Think of it as a mechanic's toolbox, providing everything you need to easily build and train complex models. This notebook will give you a solid understanding of PyTorch's core concepts, enabling you to expand your knowledge and explore the depths of machine learning models.\n",
        "\n",
        "## Outline\n",
        "\n",
        "We'll cover the following topics:\n",
        "* **PyTorch Tensors**: Multidimensional arrays and the foundational data structure in PyTorch.\n",
        "* **Neural Nets in PyTorch**: Handled by the useful `torch.nn` module.\n",
        "* **PyTorch Loss Functions**: Define the objective function we wish to minimize during training.\n",
        "* **PyTorch Optimizers**: The algorithms we use for minimizing our loss functions.\n",
        "* **Datasets and Data Loaders in PyTorch**: Useful tools for working with data at scale easily.\n",
        "* **Training loops in PyTorch**: Define the fundamental steps for training a deep learning model.\n",
        "\n",
        "## PyTorch Tensors\n",
        "\n",
        "Drawing a parallel to mathematics, tensors can be likened to vectors and matrices, but with the capability to have more than two dimensions.\n",
        "\n",
        "Let’s take a look at using pytorch tensors to store images. Suppose we have four grayscale images, each of size 28x28 pixels. We can represent these images as a 4x28x28 tensor in PyTorch. Here, `images` is a 3D tensor where the first dimension corresponds to the number of images, and the subsequent dimensions represent the height and width of each image. In this case we’ll create 4 images of random noise."
      ],
      "metadata": {
        "id": "mkDNtWF0zElF"
      }
    },
    {
      "cell_type": "code",
      "execution_count": null,
      "metadata": {
        "colab": {
          "base_uri": "https://localhost:8080/"
        },
        "id": "_wgwK59Ny6s7",
        "outputId": "df5de033-b26d-4cea-9dbd-3c0cf40e7c09"
      },
      "outputs": [
        {
          "output_type": "stream",
          "name": "stdout",
          "text": [
            "tensor([[7.2202e-01, 6.1513e-01, 1.1314e-01, 6.6263e-01, 6.4188e-01, 2.5112e-01,\n",
            "         7.1993e-01, 4.5990e-01, 3.9199e-02, 6.9879e-01, 5.0120e-01, 7.0188e-02,\n",
            "         1.8005e-02, 1.2507e-01, 3.7222e-02, 2.6882e-01, 9.5876e-01, 2.5713e-01,\n",
            "         7.1270e-01, 3.7681e-01, 3.7754e-01, 7.6604e-02, 6.4837e-01, 5.9123e-01,\n",
            "         6.1577e-01, 2.4755e-01, 7.4964e-01, 3.9973e-01],\n",
            "        [7.6296e-01, 2.6917e-03, 1.7638e-01, 4.3923e-01, 8.5714e-01, 2.7345e-01,\n",
            "         3.4865e-01, 6.4239e-01, 4.4877e-01, 7.1890e-01, 5.2948e-01, 7.2085e-01,\n",
            "         5.1513e-01, 7.3210e-02, 4.4965e-01, 5.9076e-01, 6.9296e-01, 6.0681e-02,\n",
            "         6.3020e-02, 9.3414e-01, 2.0446e-01, 9.5907e-01, 5.1482e-01, 7.0614e-01,\n",
            "         6.7753e-02, 8.5300e-01, 5.3229e-01, 6.9674e-01],\n",
            "        [7.2513e-01, 4.3430e-01, 8.5079e-01, 2.5623e-01, 6.8156e-01, 7.9197e-01,\n",
            "         5.6259e-01, 6.8394e-01, 1.3594e-01, 5.9777e-01, 6.0003e-01, 6.0606e-01,\n",
            "         3.0450e-01, 7.7384e-01, 4.4390e-01, 6.4173e-01, 6.0364e-01, 7.1938e-01,\n",
            "         7.9091e-01, 6.4203e-01, 3.1643e-01, 2.3837e-01, 1.6105e-02, 5.0289e-01,\n",
            "         6.7749e-01, 3.3975e-01, 5.7253e-01, 7.0248e-02],\n",
            "        [2.9067e-01, 3.5129e-01, 1.0569e-01, 9.2742e-01, 5.5804e-01, 2.4042e-01,\n",
            "         2.5015e-01, 6.9559e-01, 3.3881e-01, 4.7918e-01, 2.6416e-01, 8.6555e-01,\n",
            "         3.7059e-01, 2.8881e-01, 4.0432e-01, 5.6361e-01, 5.8268e-01, 7.3743e-01,\n",
            "         3.2106e-01, 7.3088e-01, 2.7185e-02, 5.8629e-01, 3.8530e-01, 5.3812e-02,\n",
            "         4.2648e-01, 4.0091e-01, 9.6341e-01, 2.5824e-01],\n",
            "        [4.7325e-01, 9.8662e-01, 3.9314e-01, 6.6657e-01, 9.1258e-01, 7.6068e-01,\n",
            "         1.8614e-01, 9.4370e-01, 8.3239e-01, 3.9577e-01, 5.4858e-01, 9.3767e-01,\n",
            "         6.5806e-01, 7.4152e-01, 9.2853e-01, 9.1529e-01, 1.0937e-01, 6.1200e-01,\n",
            "         1.2574e-01, 3.0078e-01, 8.2318e-01, 5.7188e-01, 6.9017e-01, 6.3725e-01,\n",
            "         6.7608e-01, 3.9830e-01, 5.9160e-01, 6.2879e-01],\n",
            "        [1.2455e-01, 6.0214e-01, 6.0107e-01, 3.2870e-01, 2.1849e-01, 8.3122e-01,\n",
            "         5.0303e-02, 2.0189e-01, 3.1577e-02, 9.8222e-01, 3.3598e-01, 3.7126e-01,\n",
            "         4.5811e-01, 5.0795e-01, 4.1253e-01, 5.7181e-01, 7.5116e-01, 8.8075e-01,\n",
            "         2.8002e-01, 8.2654e-01, 9.6165e-01, 2.2684e-01, 6.4609e-01, 4.8887e-01,\n",
            "         4.9919e-01, 8.9185e-01, 5.4431e-01, 9.1925e-01],\n",
            "        [5.8600e-01, 4.9509e-01, 5.2732e-01, 9.0483e-01, 8.0199e-03, 1.8212e-01,\n",
            "         1.8304e-01, 2.9734e-01, 2.1270e-01, 1.0935e-01, 6.7670e-01, 7.3048e-01,\n",
            "         7.8962e-02, 7.0926e-01, 6.3435e-01, 7.1725e-01, 1.2915e-01, 4.4241e-01,\n",
            "         6.8306e-01, 4.2062e-02, 6.3577e-01, 8.5158e-01, 9.0594e-01, 3.6787e-01,\n",
            "         8.8985e-01, 3.4135e-02, 9.7297e-02, 2.8976e-01],\n",
            "        [2.5615e-01, 8.0902e-01, 2.3997e-01, 2.3476e-01, 4.1692e-01, 6.5171e-01,\n",
            "         3.0391e-01, 2.0252e-01, 8.4510e-01, 7.0293e-01, 4.6724e-01, 1.0239e-01,\n",
            "         1.3957e-01, 4.0616e-01, 3.3157e-01, 8.0693e-01, 1.0340e-01, 6.3753e-01,\n",
            "         7.2220e-01, 9.9402e-01, 3.1623e-01, 7.1485e-01, 5.1789e-01, 1.8826e-02,\n",
            "         5.5715e-01, 9.0890e-01, 3.7084e-01, 6.9086e-01],\n",
            "        [8.9070e-01, 1.8077e-01, 4.7857e-01, 2.7532e-01, 8.3213e-02, 3.0898e-01,\n",
            "         1.1940e-01, 2.1220e-01, 3.7400e-01, 2.4337e-02, 2.1885e-01, 9.3793e-01,\n",
            "         7.5820e-01, 2.3504e-01, 4.6283e-01, 4.4007e-01, 6.6675e-01, 6.4488e-02,\n",
            "         5.5386e-01, 5.4902e-01, 8.4411e-01, 4.7894e-01, 9.5589e-01, 6.6941e-01,\n",
            "         3.8357e-03, 7.0064e-01, 4.8288e-01, 3.3954e-01],\n",
            "        [5.7411e-01, 4.6490e-01, 8.5572e-01, 5.2415e-01, 8.0183e-01, 7.7222e-01,\n",
            "         8.5711e-01, 4.8739e-01, 7.3747e-01, 8.1035e-01, 6.3789e-01, 7.2342e-01,\n",
            "         9.6424e-01, 5.6721e-01, 6.3876e-01, 3.6966e-01, 1.1636e-01, 7.6920e-01,\n",
            "         6.1722e-01, 6.3346e-02, 5.9500e-02, 6.2123e-01, 6.5441e-01, 1.1488e-01,\n",
            "         4.2442e-01, 1.8364e-01, 1.3947e-01, 6.2681e-01],\n",
            "        [4.3130e-01, 7.5004e-01, 8.3853e-01, 2.4169e-01, 8.0356e-01, 4.5922e-01,\n",
            "         3.1493e-01, 2.3864e-02, 8.6194e-01, 5.3885e-01, 2.0898e-01, 5.0538e-01,\n",
            "         2.0110e-01, 2.7950e-01, 2.0976e-01, 8.8930e-01, 1.6082e-01, 2.4668e-02,\n",
            "         1.0506e-02, 8.9236e-01, 2.2861e-01, 4.8396e-01, 6.5432e-01, 4.4343e-01,\n",
            "         8.4159e-01, 6.7613e-01, 1.9904e-01, 1.4477e-01],\n",
            "        [5.6733e-01, 9.5581e-01, 5.6196e-02, 3.2471e-01, 3.2436e-01, 1.6366e-02,\n",
            "         8.2078e-01, 7.8270e-01, 4.5725e-01, 5.8515e-01, 1.4899e-01, 5.2017e-01,\n",
            "         5.1926e-01, 9.8394e-01, 8.3533e-01, 7.5239e-01, 1.6417e-01, 5.6128e-02,\n",
            "         9.1387e-01, 1.4821e-01, 4.4429e-04, 1.6834e-01, 6.8956e-01, 5.4075e-01,\n",
            "         2.7412e-01, 2.5677e-01, 7.1766e-01, 7.9266e-01],\n",
            "        [9.4515e-01, 9.8222e-01, 3.6268e-01, 8.7111e-01, 6.1156e-01, 8.2843e-01,\n",
            "         3.2901e-01, 2.3324e-01, 3.3529e-01, 8.5280e-01, 9.9596e-01, 5.2562e-01,\n",
            "         1.7298e-01, 2.1122e-01, 3.3927e-01, 1.2132e-01, 4.4157e-01, 5.9704e-01,\n",
            "         8.2976e-01, 6.6916e-02, 2.6254e-01, 3.6687e-01, 6.9398e-01, 5.8971e-01,\n",
            "         3.0629e-01, 4.5477e-01, 6.8362e-01, 1.0064e-01],\n",
            "        [6.9915e-01, 4.1833e-01, 2.5775e-01, 9.7245e-01, 3.8580e-01, 4.1101e-02,\n",
            "         2.3326e-01, 5.5204e-01, 4.3542e-01, 4.9493e-01, 6.9198e-01, 1.1285e-01,\n",
            "         4.0890e-01, 2.0273e-02, 3.3555e-01, 6.1678e-01, 5.1786e-01, 4.3317e-01,\n",
            "         8.0739e-01, 6.6690e-01, 6.4877e-01, 4.5536e-01, 2.7883e-01, 5.4852e-02,\n",
            "         6.4330e-01, 5.5588e-01, 8.1563e-01, 9.4458e-01],\n",
            "        [9.7008e-01, 9.6128e-01, 3.6594e-02, 6.7979e-01, 1.5165e-01, 8.8343e-01,\n",
            "         4.3298e-01, 5.0234e-01, 7.4510e-01, 7.5904e-01, 4.0158e-01, 6.8064e-01,\n",
            "         6.2955e-01, 8.0804e-01, 3.7654e-02, 2.5044e-01, 4.7082e-01, 2.6413e-01,\n",
            "         7.6992e-01, 9.0384e-01, 2.9678e-01, 7.1185e-01, 5.0093e-01, 8.7410e-01,\n",
            "         9.5628e-01, 3.5915e-02, 5.3877e-01, 3.2153e-01],\n",
            "        [9.9974e-01, 2.7573e-01, 1.9983e-01, 2.4847e-01, 4.5020e-01, 1.2475e-01,\n",
            "         7.0724e-01, 7.6265e-01, 3.5433e-01, 7.7360e-01, 2.7191e-01, 4.6873e-01,\n",
            "         5.5239e-01, 9.0437e-01, 5.3189e-01, 3.6000e-01, 4.4957e-01, 6.9303e-01,\n",
            "         8.1407e-01, 8.0311e-01, 4.5610e-01, 4.2352e-01, 7.4094e-01, 3.1678e-01,\n",
            "         5.6245e-01, 4.7321e-01, 6.9647e-01, 5.3798e-01],\n",
            "        [9.4573e-01, 5.6324e-01, 1.0536e-01, 4.9674e-01, 9.0443e-01, 8.0325e-01,\n",
            "         4.3734e-01, 6.6559e-01, 6.3433e-01, 2.1020e-01, 9.1932e-01, 1.0796e-01,\n",
            "         3.7887e-01, 2.6967e-01, 2.9379e-02, 9.6727e-01, 9.6698e-01, 4.9593e-01,\n",
            "         4.2936e-01, 1.2927e-02, 9.4494e-01, 4.9689e-01, 7.2687e-01, 2.1269e-01,\n",
            "         4.6220e-01, 8.8436e-01, 2.3849e-01, 2.5440e-01],\n",
            "        [2.0254e-01, 9.0410e-02, 2.6623e-01, 2.5884e-01, 7.6863e-01, 4.7461e-01,\n",
            "         4.8576e-01, 5.2670e-03, 1.2123e-01, 3.6023e-01, 1.0698e-01, 9.8488e-01,\n",
            "         9.3515e-02, 9.4626e-01, 8.6074e-01, 9.9971e-02, 1.1699e-01, 8.8971e-01,\n",
            "         5.8551e-01, 9.4567e-01, 4.5256e-01, 6.2959e-01, 3.5445e-01, 7.0527e-01,\n",
            "         7.9322e-02, 1.9843e-02, 6.3346e-01, 5.7824e-01],\n",
            "        [6.9551e-01, 7.0262e-01, 8.8749e-01, 8.9020e-01, 4.1679e-02, 2.0685e-01,\n",
            "         9.1735e-01, 7.1166e-01, 3.0219e-01, 9.8359e-01, 6.7499e-01, 1.4498e-01,\n",
            "         9.4910e-01, 6.8970e-02, 8.0654e-01, 7.6132e-02, 7.3374e-01, 7.1605e-01,\n",
            "         4.3016e-01, 1.8713e-01, 9.0386e-01, 7.0271e-01, 4.8070e-01, 1.5392e-01,\n",
            "         7.3992e-01, 2.2799e-01, 8.2616e-01, 7.8367e-01],\n",
            "        [7.5622e-02, 9.1783e-01, 9.7389e-02, 5.6936e-01, 3.2716e-02, 7.2551e-01,\n",
            "         5.1718e-01, 8.7314e-01, 9.4107e-01, 5.7012e-01, 1.7156e-01, 2.3217e-01,\n",
            "         2.4625e-01, 6.2866e-01, 9.3821e-01, 2.9946e-01, 5.0079e-01, 7.3013e-01,\n",
            "         1.3877e-01, 7.6612e-01, 7.4021e-01, 9.1444e-01, 9.5986e-02, 4.5370e-02,\n",
            "         6.9858e-01, 8.0114e-02, 1.6262e-01, 8.9259e-01],\n",
            "        [6.4411e-01, 4.9372e-01, 9.9544e-01, 5.6670e-01, 3.6613e-01, 7.8056e-01,\n",
            "         4.3807e-01, 7.8252e-01, 5.3501e-01, 4.0490e-01, 5.7584e-02, 5.6876e-01,\n",
            "         9.1150e-01, 1.2882e-01, 6.1619e-01, 9.5333e-03, 9.2881e-01, 8.7983e-01,\n",
            "         9.4296e-01, 2.5006e-01, 4.5872e-02, 3.5924e-01, 8.3993e-03, 9.4603e-01,\n",
            "         2.7450e-01, 6.3134e-01, 8.3621e-01, 3.0836e-01],\n",
            "        [7.8244e-01, 4.8887e-01, 3.7136e-01, 6.0378e-01, 8.2395e-01, 9.5748e-01,\n",
            "         2.6070e-01, 5.4256e-01, 4.6937e-01, 7.4710e-01, 6.2707e-01, 8.8923e-01,\n",
            "         1.6178e-01, 2.6575e-01, 3.7584e-01, 3.4501e-01, 2.9688e-01, 9.5801e-01,\n",
            "         2.0036e-01, 6.5896e-01, 5.2708e-01, 3.5919e-01, 3.1437e-01, 4.6305e-01,\n",
            "         6.3341e-01, 1.8790e-02, 1.3532e-01, 3.7997e-01],\n",
            "        [9.9059e-01, 3.7820e-01, 1.7659e-01, 5.4917e-01, 9.5053e-01, 7.2863e-01,\n",
            "         3.4821e-02, 4.1207e-02, 9.1645e-01, 1.8604e-01, 4.3760e-01, 9.0520e-01,\n",
            "         7.8329e-01, 6.9646e-01, 3.1824e-01, 5.7173e-01, 8.1149e-01, 3.2601e-01,\n",
            "         2.2749e-01, 5.5454e-01, 9.4910e-01, 9.5462e-01, 7.2132e-01, 3.6499e-01,\n",
            "         2.0199e-01, 6.7816e-01, 7.1180e-01, 7.4228e-01],\n",
            "        [6.2080e-01, 1.8435e-01, 6.3438e-01, 2.1329e-01, 7.7092e-01, 7.9257e-01,\n",
            "         1.9839e-01, 4.9429e-01, 4.4249e-01, 1.4024e-01, 8.4005e-01, 3.0170e-01,\n",
            "         7.2269e-02, 2.7668e-01, 3.2331e-02, 7.2948e-01, 7.3438e-01, 8.9073e-01,\n",
            "         6.9104e-01, 7.0092e-01, 1.6896e-01, 6.7148e-01, 9.8016e-01, 9.2789e-01,\n",
            "         1.8598e-01, 9.1705e-01, 7.8378e-01, 6.3174e-01],\n",
            "        [7.3476e-01, 2.1226e-01, 9.1191e-01, 1.9521e-01, 1.9857e-01, 6.9947e-01,\n",
            "         2.0479e-02, 6.4014e-01, 8.3782e-03, 1.7898e-01, 3.1260e-01, 5.1544e-01,\n",
            "         4.8363e-01, 6.7481e-03, 3.3766e-01, 9.9483e-01, 8.2938e-01, 5.8252e-01,\n",
            "         8.3587e-01, 7.5351e-01, 5.6579e-02, 6.3522e-01, 5.3317e-01, 5.2063e-01,\n",
            "         8.4324e-01, 9.4675e-01, 4.6887e-01, 2.1271e-01],\n",
            "        [9.8702e-01, 8.0791e-01, 5.2581e-01, 2.5849e-01, 6.7181e-03, 3.0810e-01,\n",
            "         7.0741e-01, 6.0420e-01, 4.6505e-01, 3.6893e-01, 4.8297e-01, 7.8320e-01,\n",
            "         2.7025e-01, 7.3471e-01, 9.2596e-01, 7.1948e-01, 7.5586e-01, 5.7851e-01,\n",
            "         4.5857e-01, 3.2773e-01, 4.3498e-01, 9.9257e-01, 6.6335e-01, 3.2725e-01,\n",
            "         6.3389e-01, 6.4494e-01, 4.0799e-01, 6.7525e-01],\n",
            "        [9.1516e-01, 3.9660e-01, 6.8950e-01, 2.6101e-01, 6.9434e-01, 9.3661e-01,\n",
            "         2.9994e-01, 4.9452e-01, 4.0937e-01, 7.5632e-01, 4.5849e-01, 8.3834e-02,\n",
            "         5.6523e-01, 5.4744e-01, 3.4789e-01, 2.6455e-01, 4.2536e-01, 5.8349e-01,\n",
            "         8.6538e-01, 9.9942e-01, 4.0773e-01, 5.0872e-01, 1.1388e-01, 5.3895e-01,\n",
            "         5.8691e-01, 9.1476e-01, 1.5618e-01, 9.6111e-01],\n",
            "        [5.5971e-01, 7.6354e-01, 8.9875e-01, 9.4914e-01, 8.3311e-01, 3.5533e-01,\n",
            "         5.0038e-01, 8.6977e-01, 1.0558e-01, 2.1285e-01, 6.4311e-01, 7.6729e-01,\n",
            "         8.0047e-01, 3.3454e-01, 5.8593e-01, 3.0169e-01, 2.4480e-01, 1.1412e-01,\n",
            "         7.6080e-01, 5.7762e-01, 4.5797e-01, 3.4251e-01, 4.6945e-01, 1.2654e-02,\n",
            "         4.6777e-01, 9.7311e-01, 8.5579e-01, 1.1742e-01]])\n"
          ]
        }
      ],
      "source": [
        "import torch\n",
        "import matplotlib.pyplot as plt\n",
        "\n",
        "images = torch.rand(4, 28, 28)\n",
        "# To access the second image\n",
        "second_image = images[1]\n",
        "print(second_image)"
      ]
    },
    {
      "cell_type": "markdown",
      "source": [
        "To display an image from a PyTorch tensor, you can use the `matplotlib` library. Here's an example of how you would display the image. We use the `imshow` function from `matplotlib.pyplot` to display the image. The `cmap='gray'` argument ensures that the image is displayed in grayscale."
      ],
      "metadata": {
        "id": "L5y93CppzRcP"
      }
    },
    {
      "cell_type": "code",
      "source": [
        "plt.imshow(second_image, cmap='gray')\n",
        "plt.show()"
      ],
      "metadata": {
        "colab": {
          "base_uri": "https://localhost:8080/",
          "height": 430
        },
        "id": "-csOWKzYzNTO",
        "outputId": "0eb59e4e-1b7d-4193-d012-ef98ebd590f7"
      },
      "execution_count": null,
      "outputs": [
        {
          "output_type": "display_data",
          "data": {
            "text/plain": [
              "<Figure size 640x480 with 1 Axes>"
            ],
            "image/png": "[encoded data removed]"
          },
          "metadata": {}
        }
      ]
    },
    {
      "cell_type": "markdown",
      "source": [
        "Since we used `torch.rand` to generate these four images randomly, we get noise as expected.\n",
        "If you are familiar with matrices, then you will be at home with PyTorch tensors, since they offer all the same things you can do with a matrix. For instance, take the 2x2 matrix A. Let’s calculate the 1st, 2nd, 3rd, and 4th powers of this matrix, using matrix multiplication."
      ],
      "metadata": {
        "id": "d_ZkalRDzVkD"
      }
    },
    {
      "cell_type": "code",
      "source": [
        "A = torch.tensor([[1, 1], [1, 0]], dtype=torch.float32)\n",
        "print(\"A^1:\\n\", torch.matrix_power(A, 1))\n",
        "print(\"A^2:\\n\", torch.matrix_power(A, 2))\n",
        "print(\"A^3:\\n\", torch.matrix_power(A, 3))\n",
        "print(\"A^4:\\n\", torch.matrix_power(A, 4))"
      ],
      "metadata": {
        "colab": {
          "base_uri": "https://localhost:8080/"
        },
        "id": "3jJdDpDwzUBt",
        "outputId": "dfd9ea1f-0e70-45b4-8185-ee0a969aa33a"
      },
      "execution_count": null,
      "outputs": [
        {
          "output_type": "stream",
          "name": "stdout",
          "text": [
            "A^1:\n",
            " tensor([[1., 1.],\n",
            "        [1., 0.]])\n",
            "A^2:\n",
            " tensor([[2., 1.],\n",
            "        [1., 1.]])\n",
            "A^3:\n",
            " tensor([[3., 2.],\n",
            "        [2., 1.]])\n",
            "A^4:\n",
            " tensor([[5., 3.],\n",
            "        [3., 2.]])\n"
          ]
        }
      ]
    },
    {
      "cell_type": "markdown",
      "source": [
        "## Neural Nets in PyTorch\n",
        "\n",
        "Moving on, PyTorch provides robust tools for the creation and manipulation of neural networks. Think of neural networks as intricate systems of interconnected nodes. Each node or neuron processes input and transmits the result to subsequent nodes. The simplest form of a neural network is a Multi-Layer Perceptron (MLP). In an MLP, there is an input layer, an output layer, and any number of hidden layers in the middle. Let’s make a Multi-Layer Perceptron with one hidden layer using PyTorch."
      ],
      "metadata": {
        "id": "ZRdZ4vlfzX14"
      }
    },
    {
      "cell_type": "code",
      "source": [
        "import torch.nn as nn\n",
        "\n",
        "class MLP(nn.Module):\n",
        "    def __init__(self, input_size):\n",
        "        super(MLP, self).__init__()\n",
        "        self.hidden_layer = nn.Linear(input_size, 64)\n",
        "        self.activation = nn.ReLU()\n",
        "        self.output_layer = nn.Linear(64, 2)\n",
        "\n",
        "    def forward(self, x):\n",
        "        x = self.hidden_layer(x)\n",
        "        x = self.activation(x)\n",
        "        x = self.output_layer(x)\n",
        "        return x"
      ],
      "metadata": {
        "id": "OJyT5tR2zXM7"
      },
      "execution_count": null,
      "outputs": []
    },
    {
      "cell_type": "markdown",
      "source": [
        "We can now instantiate the multi-layer perceptron with an input size of 10 and print the model to review the sizes of our layers."
      ],
      "metadata": {
        "id": "e_enRosezb6T"
      }
    },
    {
      "cell_type": "code",
      "source": [
        "model = MLP(input_size=10)\n",
        "print(model)"
      ],
      "metadata": {
        "colab": {
          "base_uri": "https://localhost:8080/"
        },
        "id": "FKT9hchYzaaa",
        "outputId": "2e8a048e-27fa-4abb-c9e6-f0253ff977a7"
      },
      "execution_count": null,
      "outputs": [
        {
          "output_type": "stream",
          "name": "stdout",
          "text": [
            "MLP(\n",
            "  (hidden_layer): Linear(in_features=10, out_features=64, bias=True)\n",
            "  (activation): ReLU()\n",
            "  (output_layer): Linear(in_features=64, out_features=2, bias=True)\n",
            ")\n"
          ]
        }
      ]
    },
    {
      "cell_type": "markdown",
      "source": [
        "We can test out the `forward` method of the model by passing in a vector of length 10. As expected, we receive a vector of length 2."
      ],
      "metadata": {
        "id": "rpLLGJGTzfV1"
      }
    },
    {
      "cell_type": "code",
      "source": [
        "input_vector = torch.randn(10)\n",
        "output = model(input_vector)\n",
        "print(output)"
      ],
      "metadata": {
        "colab": {
          "base_uri": "https://localhost:8080/"
        },
        "id": "_ITy4GNtzddR",
        "outputId": "9fc4f66c-c248-4ed2-ad93-8a6dd0b866fc"
      },
      "execution_count": null,
      "outputs": [
        {
          "output_type": "stream",
          "name": "stdout",
          "text": [
            "tensor([-0.0374,  0.0590], grad_fn=<ViewBackward0>)\n"
          ]
        }
      ]
    },
    {
      "cell_type": "markdown",
      "source": [
        "## Loss Functions\n",
        "\n",
        "Let’s discuss loss functions in PyTorch now. Loss functions play a pivotal role in guiding model optimization. These functions quantify the discrepancy between the predicted output and the actual target values. We’ll look at two very important building blocks: Cross-Entropy Loss and Mean Squared Error (MSE) Loss.\n",
        "\n",
        "We start with a cross-entropy loss function, which is suited for classification tasks."
      ],
      "metadata": {
        "id": "NeyfnszazhHX"
      }
    },
    {
      "cell_type": "code",
      "source": [
        "cross_entropy_loss = nn.CrossEntropyLoss()\n",
        "target = torch.tensor([1]) # 0 for cats, 1 for dogs. Label is for dog.\n",
        "\n",
        "# Case 1: Prediction is more likely a dog\n",
        "predicted1 = torch.tensor([[2.0, 5.0]])\n",
        "loss1 = cross_entropy_loss(predicted1, target)\n",
        "print(f\"Loss when prediction is more likely a dog: {loss1.item():.4f}\")\n",
        "\n",
        "# Case 2: Prediction is more likely a cat\n",
        "predicted2 = torch.tensor([[1.5, 1.1]])\n",
        "loss2 = cross_entropy_loss(predicted2, target)\n",
        "print(f\"Loss when prediction is more likely a cat: {loss2.item():.4f}\")"
      ],
      "metadata": {
        "colab": {
          "base_uri": "https://localhost:8080/"
        },
        "id": "BHuuq-S_zgwn",
        "outputId": "b1bb4ace-36ef-4e15-c06b-5e75a82e500c"
      },
      "execution_count": null,
      "outputs": [
        {
          "output_type": "stream",
          "name": "stdout",
          "text": [
            "Loss when prediction is more likely a dog: 0.0486\n",
            "Loss when prediction is more likely a cat: 0.9130\n"
          ]
        }
      ]
    },
    {
      "cell_type": "markdown",
      "source": [
        "Mean Squared Error (MSE) Loss is commonly employed in regression problems. Consider a situation where we aim to predict house prices. Let's say for a specific house, our model predicts a price of $320,000, but the actual price is $300,000."
      ],
      "metadata": {
        "id": "6KACFBI6zl0r"
      }
    },
    {
      "cell_type": "code",
      "source": [
        "mse_loss = nn.MSELoss()\n",
        "predicted_price = torch.tensor([320000.0])\n",
        "actual_price = torch.tensor([300000.0])\n",
        "loss = mse_loss(predicted_price, actual_price)\n",
        "print(f\"MSE Loss: {loss.item()}\")"
      ],
      "metadata": {
        "colab": {
          "base_uri": "https://localhost:8080/"
        },
        "id": "OLv9mmNXzj0l",
        "outputId": "9dbaa75d-15c0-4def-8c06-f2e9494c834b"
      },
      "execution_count": null,
      "outputs": [
        {
          "output_type": "stream",
          "name": "stdout",
          "text": [
            "MSE Loss: 400000000.0\n"
          ]
        }
      ]
    },
    {
      "cell_type": "markdown",
      "source": [
        "## PyTorch Optimizers\n",
        "\n",
        "After we have a loss function, we need to train the model by minimizing its loss function. For this, we use a PyTorch optimizer. One popular optimizer is Stochastic Gradient Descent (SGD)."
      ],
      "metadata": {
        "id": "8D05mNXzzoQq"
      }
    },
    {
      "cell_type": "code",
      "source": [
        "from torch.optim import SGD, Adam\n",
        "\n",
        "# Assuming 'model' is our MLP defined earlier\n",
        "optimizer_sgd = SGD(model.parameters(), lr=0.01, momentum=0.9)\n",
        "print(\"SGD Optimizer instantiated.\")\n",
        "\n",
        "# Adam is another popular optimizer.\n",
        "optimizer_adam = Adam(model.parameters(), lr=0.01)\n",
        "print(\"Adam Optimizer instantiated.\")"
      ],
      "metadata": {
        "colab": {
          "base_uri": "https://localhost:8080/"
        },
        "id": "fZeBOZb0znuh",
        "outputId": "109c3ce5-dbcc-4b29-9a37-ae07d9876661"
      },
      "execution_count": null,
      "outputs": [
        {
          "output_type": "stream",
          "name": "stdout",
          "text": [
            "SGD Optimizer instantiated.\n",
            "Adam Optimizer instantiated.\n"
          ]
        }
      ]
    },
    {
      "cell_type": "markdown",
      "source": [
        "## Datasets and DataLoaders\n",
        "\n",
        "In the PyTorch framework, the handling of data is facilitated through the `Dataset` class and the `DataLoader` utility. The `Dataset` class serves as a blueprint for how data is accessed and transformed, while the `DataLoader` is a utility that wraps around a `Dataset` object to provide batched, shuffled, and parallelized loading of data.\n",
        "\n",
        "Let's design an example to define a dataset for returning pairs of numbers and their products."
      ],
      "metadata": {
        "id": "3eBSNwLizt7r"
      }
    },
    {
      "cell_type": "code",
      "source": [
        "from torch.utils.data import Dataset, DataLoader\n",
        "\n",
        "class NumberProductDataset(Dataset):\n",
        "    def __init__(self, data_range):\n",
        "        self.data = [(i, i + 1, i * (i + 1)) for i in range(data_range)]\n",
        "\n",
        "    def __getitem__(self, idx):\n",
        "        return self.data[idx]\n",
        "\n",
        "    def __len__(self):\n",
        "        return len(self.data)\n",
        "\n",
        "dataset = NumberProductDataset(data_range=11)\n",
        "sample = dataset[3] # pick the 4th element (index 3)\n",
        "print(f\"Input: {sample[0]}, {sample[1]}, Output: {sample[2]}\")"
      ],
      "metadata": {
        "colab": {
          "base_uri": "https://localhost:8080/"
        },
        "id": "oDsN8GoHzsAN",
        "outputId": "816a490b-d787-4672-99ca-d0f5c89a8ba1"
      },
      "execution_count": null,
      "outputs": [
        {
          "output_type": "stream",
          "name": "stdout",
          "text": [
            "Input: 3, 4, Output: 12\n"
          ]
        }
      ]
    },
    {
      "cell_type": "markdown",
      "source": [
        "Now let's turn to the example of the `DataLoader`. Our data loader will take our `NumberProductDataset` as an input. We will also specify a batch size of three and set shuffle to true."
      ],
      "metadata": {
        "id": "dLqOigm-z0JV"
      }
    },
    {
      "cell_type": "code",
      "source": [
        "dataloader = DataLoader(dataset, batch_size=3, shuffle=True)\n",
        "for i, (input1, input2, output) in enumerate(dataloader):\n",
        "    print(f\"Batch {i+1}:\")\n",
        "    print(f\"  Inputs 1: {input1}\")\n",
        "    print(f\"  Inputs 2: {input2}\")\n",
        "    print(f\"  Outputs: {output}\")"
      ],
      "metadata": {
        "colab": {
          "base_uri": "https://localhost:8080/"
        },
        "id": "gxavcwwkzv5H",
        "outputId": "b358b851-fdf3-4127-83a2-e21a199ddf46"
      },
      "execution_count": null,
      "outputs": [
        {
          "output_type": "stream",
          "name": "stdout",
          "text": [
            "Batch 1:\n",
            "  Inputs 1: tensor([8, 7, 5])\n",
            "  Inputs 2: tensor([9, 8, 6])\n",
            "  Outputs: tensor([72, 56, 30])\n",
            "Batch 2:\n",
            "  Inputs 1: tensor([10,  2,  6])\n",
            "  Inputs 2: tensor([11,  3,  7])\n",
            "  Outputs: tensor([110,   6,  42])\n",
            "Batch 3:\n",
            "  Inputs 1: tensor([3, 0, 4])\n",
            "  Inputs 2: tensor([4, 1, 5])\n",
            "  Outputs: tensor([12,  0, 20])\n",
            "Batch 4:\n",
            "  Inputs 1: tensor([1, 9])\n",
            "  Inputs 2: tensor([ 2, 10])\n",
            "  Outputs: tensor([ 2, 90])\n"
          ]
        }
      ]
    },
    {
      "cell_type": "markdown",
      "source": [
        "## Training Loop\n",
        "\n",
        "Ok. Now we’re at the final step. Let's bring together all the components of PyTorch and show a full-fledged training loop!\n",
        "\n",
        "For this example, we will create a simple dataset, consisting of pairs of numbers and their sums."
      ],
      "metadata": {
        "id": "uKNkBd1_z2Ry"
      }
    },
    {
      "cell_type": "code",
      "source": [
        "class NumberSumDataset(Dataset):\n",
        "    def __init__(self, data_range):\n",
        "        self.data = []\n",
        "        for i in range(data_range):\n",
        "            for j in range(data_range):\n",
        "                self.data.append(([i, j], i + j))\n",
        "\n",
        "    def __getitem__(self, idx):\n",
        "        return torch.tensor(self.data[idx][0], dtype=torch.float32), torch.tensor(self.data[idx][1], dtype=torch.float32)\n",
        "\n",
        "    def __len__(self):\n",
        "        return len(self.data)\n",
        "\n",
        "# Print the first five elements to verify\n",
        "sum_dataset = NumberSumDataset(data_range=10)\n",
        "for i in range(5):\n",
        "    print(sum_dataset[i])"
      ],
      "metadata": {
        "colab": {
          "base_uri": "https://localhost:8080/"
        },
        "id": "wIbOh6ooz1nF",
        "outputId": "dfc479bd-df99-4cba-ee58-ecf93e14d1aa"
      },
      "execution_count": null,
      "outputs": [
        {
          "output_type": "stream",
          "name": "stdout",
          "text": [
            "(tensor([0., 0.]), tensor(0.))\n",
            "(tensor([0., 1.]), tensor(1.))\n",
            "(tensor([0., 2.]), tensor(2.))\n",
            "(tensor([0., 3.]), tensor(3.))\n",
            "(tensor([0., 4.]), tensor(4.))\n"
          ]
        }
      ]
    },
    {
      "cell_type": "markdown",
      "source": [
        "Next, we define a multi-layer perceptron with 128 nodes in its hidden layer and a single node in its output layer. For the activation function, we use a rectified linear unit."
      ],
      "metadata": {
        "id": "F_uTXduOz6ce"
      }
    },
    {
      "cell_type": "code",
      "source": [
        "class SumMLP(nn.Module):\n",
        "    def __init__(self):\n",
        "        super(SumMLP, self).__init__()\n",
        "        self.hidden_layer = nn.Linear(2, 128)\n",
        "        self.activation = nn.ReLU()\n",
        "        self.output_layer = nn.Linear(128, 1)\n",
        "\n",
        "    def forward(self, x):\n",
        "        x = self.hidden_layer(x)\n",
        "        x = self.activation(x)\n",
        "        x = self.output_layer(x)\n",
        "        return x"
      ],
      "metadata": {
        "id": "YpM_0isGz4xY"
      },
      "execution_count": null,
      "outputs": []
    },
    {
      "cell_type": "markdown",
      "source": [
        "All of the components needed for the training loop are listed here."
      ],
      "metadata": {
        "id": "JYIaEYgdz9fy"
      }
    },
    {
      "cell_type": "code",
      "source": [
        "sum_dataset = NumberSumDataset(data_range=10)\n",
        "sum_dataloader = DataLoader(sum_dataset, batch_size=10, shuffle=True)\n",
        "sum_model = SumMLP()\n",
        "loss_function = nn.MSELoss()\n",
        "optimizer = Adam(sum_model.parameters(), lr=0.01)"
      ],
      "metadata": {
        "id": "4vWDD29iz79P"
      },
      "execution_count": null,
      "outputs": []
    },
    {
      "cell_type": "markdown",
      "source": [
        "Here is the training loop!"
      ],
      "metadata": {
        "id": "s5EyVi6h0AkZ"
      }
    },
    {
      "cell_type": "code",
      "source": [
        "num_epochs = 20\n",
        "for epoch in range(num_epochs):\n",
        "    epoch_loss = 0.0\n",
        "    for inputs, targets in sum_dataloader:\n",
        "        optimizer.zero_grad()\n",
        "        predictions = sum_model(inputs)\n",
        "        loss = loss_function(predictions.squeeze(), targets)\n",
        "        loss.backward()\n",
        "        optimizer.step()\n",
        "        epoch_loss += loss.item()\n",
        "    print(f\"Epoch {epoch+1}/{num_epochs}, Loss: {epoch_loss/len(sum_dataloader):.4f}\")"
      ],
      "metadata": {
        "colab": {
          "base_uri": "https://localhost:8080/"
        },
        "id": "06iQ4puWz_Yb",
        "outputId": "a9c26fd0-aa3c-4baa-fabb-7c7d0ebd2896"
      },
      "execution_count": null,
      "outputs": [
        {
          "output_type": "stream",
          "name": "stdout",
          "text": [
            "Epoch 1/20, Loss: 23.5775\n",
            "Epoch 2/20, Loss: 5.4806\n",
            "Epoch 3/20, Loss: 3.2277\n",
            "Epoch 4/20, Loss: 0.8485\n",
            "Epoch 5/20, Loss: 0.3303\n",
            "Epoch 6/20, Loss: 0.2093\n",
            "Epoch 7/20, Loss: 0.0855\n",
            "Epoch 8/20, Loss: 0.0347\n",
            "Epoch 9/20, Loss: 0.0170\n",
            "Epoch 10/20, Loss: 0.0105\n",
            "Epoch 11/20, Loss: 0.0060\n",
            "Epoch 12/20, Loss: 0.0043\n",
            "Epoch 13/20, Loss: 0.0026\n",
            "Epoch 14/20, Loss: 0.0023\n",
            "Epoch 15/20, Loss: 0.0018\n",
            "Epoch 16/20, Loss: 0.0018\n",
            "Epoch 17/20, Loss: 0.0016\n",
            "Epoch 18/20, Loss: 0.0016\n",
            "Epoch 19/20, Loss: 0.0011\n",
            "Epoch 20/20, Loss: 0.0010\n"
          ]
        }
      ]
    },
    {
      "cell_type": "markdown",
      "source": [
        "Now it's time to try our model out! What about using the numbers 3 and 7?"
      ],
      "metadata": {
        "id": "wCb0cyHl0E-s"
      }
    },
    {
      "cell_type": "code",
      "source": [
        "test_input = torch.tensor([3.0, 7.0])\n",
        "prediction = sum_model(test_input)\n",
        "print(f\"Prediction for 3 + 7: {prediction.item():.1f}\")"
      ],
      "metadata": {
        "colab": {
          "base_uri": "https://localhost:8080/"
        },
        "id": "eOHkAqsE0DSk",
        "outputId": "0a3abf54-9d22-466e-eeb1-d583d00a1d79"
      },
      "execution_count": null,
      "outputs": [
        {
          "output_type": "stream",
          "name": "stdout",
          "text": [
            "Prediction for 3 + 7: 10.0\n"
          ]
        }
      ]
    },
    {
      "cell_type": "markdown",
      "source": [
        "Now you understand the core building blocks of PyTorch, equipping you with essential tools for developing powerful machine learning models."
      ],
      "metadata": {
        "id": "cFkCp39X0G_k"
      }
    }
  ]
}