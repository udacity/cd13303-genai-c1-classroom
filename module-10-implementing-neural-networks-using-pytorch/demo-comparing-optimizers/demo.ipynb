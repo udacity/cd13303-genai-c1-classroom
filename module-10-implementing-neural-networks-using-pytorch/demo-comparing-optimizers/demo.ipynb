{
 "cells": [
  {
   "cell_type": "markdown",
   "metadata": {},
   "source": [
    "# Demo: Comparing Optimizers with a Simple MLP\n",
    "\n",
    "Welcome! This notebook is a warm-up exercise to demonstrate how to compare different training optimizers in PyTorch. We will:\n",
    "1. Load the classic MNIST dataset of handwritten digits.\n",
    "2. Build a simple Multi-Layer Perceptron (MLP) model.\n",
    "3. Train the model using two different optimizers: **SGD** and **Adam**.\n",
    "4. Compare their performance by plotting validation accuracy.\n",
    "\n",
    "Follow along with the code to understand the key steps involved."
   ]
  },
  {
   "cell_type": "markdown",
   "metadata": {},
   "source": [
    "### 1. Imports and Setup"
   ]
  },
  {
   "cell_type": "code",
   "execution_count": 1,
   "metadata": {},
   "outputs": [],
   "source": [
    "# Imports and global configuration\n",
    "import torch\n",
    "import torch.nn as nn\n",
    "import torch.nn.functional as F\n",
    "import torch.optim as optim\n",
    "from torch.utils.data import DataLoader\n",
    "from torchvision import datasets, transforms\n",
    "import random\n",
    "import numpy as np\n",
    "import matplotlib.pyplot as plt\n",
    "\n",
    "\n",
    "# Set a seed for reproducibility\n",
    "def set_seed(seed=42):\n",
    "    random.seed(seed)\n",
    "    np.random.seed(seed)\n",
    "    torch.manual_seed(seed)\n",
    "    torch.cuda.manual_seed_all(seed)\n",
    "    torch.backends.cudnn.deterministic = True\n",
    "    torch.backends.cudnn.benchmark = False\n",
    "\n",
    "\n",
    "set_seed(1234)"
   ]
  },
  {
   "cell_type": "code",
   "execution_count": 2,
   "metadata": {},
   "outputs": [
    {
     "name": "stdout",
     "output_type": "stream",
     "text": [
      "Using device: cpu\n"
     ]
    }
   ],
   "source": [
    "# Select the appropriate device (GPU if available, otherwise CPU)\n",
    "device = torch.device(\"cuda\" if torch.cuda.is_available() else \"cpu\")\n",
    "print(f\"Using device: {device}\")"
   ]
  },
  {
   "cell_type": "markdown",
   "metadata": {},
   "source": [
    "### 2. Data Preparation"
   ]
  },
  {
   "cell_type": "code",
   "execution_count": 3,
   "metadata": {},
   "outputs": [],
   "source": [
    "# Define the data transforms: convert images to tensors and normalize them\n",
    "data_transforms = transforms.Compose(\n",
    "    [\n",
    "        transforms.ToTensor(),\n",
    "        transforms.Normalize((0.1307,), (0.3081,)),  # MNIST-specific mean and std\n",
    "    ]\n",
    ")"
   ]
  },
  {
   "cell_type": "code",
   "execution_count": 4,
   "metadata": {},
   "outputs": [
    {
     "name": "stdout",
     "output_type": "stream",
     "text": [
      "Train size: 54000, Val size: 6000, Test size: 10000\n"
     ]
    }
   ],
   "source": [
    "# Download and load the MNIST training and test datasets\n",
    "train_ds_full = datasets.MNIST(\n",
    "    root=\"./data\", train=True, download=True, transform=data_transforms\n",
    ")\n",
    "test_ds = datasets.MNIST(\n",
    "    root=\"./data\", train=False, download=True, transform=data_transforms\n",
    ")\n",
    "\n",
    "# Create a validation split from the training set\n",
    "val_ratio = 0.1\n",
    "val_size = int(len(train_ds_full) * val_ratio)\n",
    "train_size = len(train_ds_full) - val_size\n",
    "train_ds, val_ds = torch.utils.data.random_split(train_ds_full, [train_size, val_size])\n",
    "\n",
    "print(\n",
    "    f\"Train size: {len(train_ds)}, Val size: {len(val_ds)}, Test size: {len(test_ds)}\"\n",
    ")\n",
    "\n",
    "# Create DataLoaders to handle batching\n",
    "batch_size = 64\n",
    "train_loader = DataLoader(train_ds, batch_size=batch_size, shuffle=True)\n",
    "val_loader = DataLoader(val_ds, batch_size=batch_size, shuffle=False)\n",
    "test_loader = DataLoader(test_ds, batch_size=batch_size, shuffle=False)"
   ]
  },
  {
   "cell_type": "code",
   "execution_count": 5,
   "metadata": {},
   "outputs": [
    {
     "data": {
      "image/png": "[encoded data removed]",
      "text/plain": [
       "<Figure size 600x300 with 10 Axes>"
      ]
     },
     "metadata": {},
     "output_type": "display_data"
    }
   ],
   "source": [
    "# Helper function to show some sample images\n",
    "def show_images(dataloader):\n",
    "    images, labels = next(iter(dataloader))\n",
    "    fig, ax = plt.subplots(2, 5, figsize=(6, 3))\n",
    "    for i in range(2):\n",
    "        for j in range(5):\n",
    "            idx = i * 5 + j\n",
    "            ax[i, j].imshow(images[idx].squeeze(), cmap=\"gray\")\n",
    "            ax[i, j].set_title(f\"Label: {labels[idx].item()}\")\n",
    "            ax[i, j].axis(\"off\")\n",
    "    plt.tight_layout()\n",
    "    plt.show()\n",
    "\n",
    "\n",
    "show_images(train_loader)"
   ]
  },
  {
   "cell_type": "markdown",
   "metadata": {},
   "source": [
    "### 3. Model, Metrics, and Training Utilities"
   ]
  },
  {
   "cell_type": "code",
   "execution_count": 6,
   "metadata": {},
   "outputs": [
    {
     "name": "stdout",
     "output_type": "stream",
     "text": [
      "Total parameters: 101770\n"
     ]
    }
   ],
   "source": [
    "# Define a simple Multi-Layer Perceptron (MLP)\n",
    "class SimpleMLP(nn.Module):\n",
    "    def __init__(self, input_size=28 * 28, hidden_size=128, num_classes=10):\n",
    "        super().__init__()\n",
    "        self.fc1 = nn.Linear(input_size, hidden_size)\n",
    "        self.fc2 = nn.Linear(hidden_size, num_classes)\n",
    "\n",
    "    def forward(self, x):\n",
    "        # Flatten the image from 28x28 to a 784-element vector\n",
    "        x = torch.flatten(x, 1)\n",
    "        # Apply ReLU activation after the first layer\n",
    "        x = F.relu(self.fc1(x))\n",
    "        # The output of the second layer are the logits\n",
    "        x = self.fc2(x)\n",
    "        return x\n",
    "\n",
    "\n",
    "# You can instantiate the model to check its parameters\n",
    "model_check = SimpleMLP()\n",
    "print(f\"Total parameters: {sum(p.numel() for p in model_check.parameters())}\")"
   ]
  },
  {
   "cell_type": "code",
   "execution_count": 7,
   "metadata": {},
   "outputs": [],
   "source": [
    "# Function to compute accuracy from model outputs (logits)\n",
    "@torch.no_grad()\n",
    "def accuracy_from_logits(logits, y):\n",
    "    # Get predicted class by finding the index with the highest logit value\n",
    "    preds = logits.argmax(dim=1)\n",
    "    # Check if predictions match the true labels\n",
    "    correct = preds == y\n",
    "    # Return the mean accuracy for the batch\n",
    "    return correct.float().mean().item()"
   ]
  },
  {
   "cell_type": "code",
   "execution_count": 8,
   "metadata": {},
   "outputs": [],
   "source": [
    "# Function for a single training epoch\n",
    "def train_one_epoch(model, loader, criterion, optimizer, device):\n",
    "    model.train()  # Set model to training mode\n",
    "    running_loss, running_acc, n = 0.0, 0.0, 0\n",
    "    for x, y in loader:\n",
    "        x, y = x.to(device), y.to(device)\n",
    "\n",
    "        # 1. Zero the gradients\n",
    "        optimizer.zero_grad()\n",
    "        # 2. Get model predictions (forward pass)\n",
    "        logits = model(x)\n",
    "        # 3. Calculate the loss\n",
    "        loss = criterion(logits, y)\n",
    "        # 4. Compute gradients (backward pass)\n",
    "        loss.backward()\n",
    "        # 5. Update model weights\n",
    "        optimizer.step()\n",
    "\n",
    "        # Update stats\n",
    "        batch_size = x.size(0)\n",
    "        running_loss += loss.item() * batch_size\n",
    "        running_acc += accuracy_from_logits(logits, y) * batch_size\n",
    "        n += batch_size\n",
    "\n",
    "    return running_loss / n, running_acc / n"
   ]
  },
  {
   "cell_type": "code",
   "execution_count": 9,
   "metadata": {},
   "outputs": [],
   "source": [
    "# Function to evaluate the model on validation or test data\n",
    "@torch.no_grad()\n",
    "def evaluate(model, loader, criterion, device):\n",
    "    model.eval()  # Set model to evaluation mode\n",
    "    total_loss, total_acc, n = 0.0, 0.0, 0\n",
    "    for x, y in loader:\n",
    "        x, y = x.to(device), y.to(device)\n",
    "        logits = model(x)\n",
    "        loss = criterion(logits, y)\n",
    "\n",
    "        # Update stats\n",
    "        batch_size = x.size(0)\n",
    "        total_loss += loss.item() * batch_size\n",
    "        total_acc += accuracy_from_logits(logits, y) * batch_size\n",
    "        n += batch_size\n",
    "\n",
    "    return total_loss / n, total_acc / n"
   ]
  },
  {
   "cell_type": "markdown",
   "metadata": {},
   "source": [
    "### 4. Optimizer Bake-Off"
   ]
  },
  {
   "cell_type": "code",
   "execution_count": 10,
   "metadata": {},
   "outputs": [],
   "source": [
    "# Loss function for classification\n",
    "criterion = nn.CrossEntropyLoss()\n",
    "\n",
    "\n",
    "# Function to create a new model instance for each experiment\n",
    "def make_fresh_model():\n",
    "    return SimpleMLP().to(device)\n",
    "\n",
    "\n",
    "# Define the optimizer configurations we want to compare\n",
    "optim_configs = {\"sgd\": {\"lr\": 1e-2, \"momentum\": 0.9}, \"adam\": {\"lr\": 1e-3}}\n",
    "\n",
    "\n",
    "# Helper function to create an optimizer for a given model\n",
    "def make_optimizer(name, params):\n",
    "    if name == \"sgd\":\n",
    "        return optim.SGD(params, **optim_configs[\"sgd\"])\n",
    "    if name == \"adam\":\n",
    "        return optim.Adam(params, **optim_configs[\"adam\"])\n",
    "    raise ValueError(\"Unknown optimizer\")"
   ]
  },
  {
   "cell_type": "code",
   "execution_count": 11,
   "metadata": {},
   "outputs": [
    {
     "name": "stdout",
     "output_type": "stream",
     "text": [
      "\n",
      "=== Training with SGD ===\n",
      "Epoch 01 | train loss 0.2941 acc 0.9137 | val loss 0.1680 acc 0.9495\n",
      "Epoch 02 | train loss 0.1245 acc 0.9626 | val loss 0.1247 acc 0.9652\n",
      "Epoch 03 | train loss 0.0869 acc 0.9747 | val loss 0.1030 acc 0.9682\n",
      "\n",
      "=== Training with ADAM ===\n",
      "Epoch 01 | train loss 0.2706 acc 0.9212 | val loss 0.1612 acc 0.9520\n",
      "Epoch 02 | train loss 0.1207 acc 0.9641 | val loss 0.1271 acc 0.9625\n",
      "Epoch 03 | train loss 0.0832 acc 0.9751 | val loss 0.1059 acc 0.9675\n",
      "\n",
      "Done training all optimizers.\n"
     ]
    }
   ],
   "source": [
    "# Main training loop to compare optimizers\n",
    "EPOCHS = 3\n",
    "histories = {}\n",
    "\n",
    "for opt_name in [\"sgd\", \"adam\"]:\n",
    "    print(f\"\\n=== Training with {opt_name.upper()} ===\")\n",
    "    set_seed(1234)  # Reset seed for a fair comparison\n",
    "    model = make_fresh_model()\n",
    "    optimizer = make_optimizer(opt_name, model.parameters())\n",
    "\n",
    "    # Store metrics for this run\n",
    "    history = {\"train_loss\": [], \"train_acc\": [], \"val_loss\": [], \"val_acc\": []}\n",
    "\n",
    "    for epoch in range(1, EPOCHS + 1):\n",
    "        # Train for one epoch\n",
    "        tl, ta = train_one_epoch(model, train_loader, criterion, optimizer, device)\n",
    "        # Evaluate on the validation set\n",
    "        vl, va = evaluate(model, val_loader, criterion, device)\n",
    "\n",
    "        # Save metrics\n",
    "        history[\"train_loss\"].append(tl)\n",
    "        history[\"train_acc\"].append(ta)\n",
    "        history[\"val_loss\"].append(vl)\n",
    "        history[\"val_acc\"].append(va)\n",
    "\n",
    "        print(\n",
    "            f\"Epoch {epoch:02d} | train loss {tl:.4f} acc {ta:.4f} | val loss {vl:.4f} acc {va:.4f}\"\n",
    "        )\n",
    "\n",
    "    histories[opt_name] = history\n",
    "\n",
    "print(\"\\nDone training all optimizers.\")"
   ]
  },
  {
   "cell_type": "markdown",
   "metadata": {},
   "source": [
    "### 5. Results and Final Evaluation"
   ]
  },
  {
   "cell_type": "code",
   "execution_count": 12,
   "metadata": {},
   "outputs": [
    {
     "data": {
      "image/png": "[encoded data removed]",
      "text/plain": [
       "<Figure size 800x500 with 1 Axes>"
      ]
     },
     "metadata": {},
     "output_type": "display_data"
    }
   ],
   "source": [
    "# Plot validation accuracy curves to compare performance\n",
    "plt.figure(figsize=(8, 5))\n",
    "for name, h in histories.items():\n",
    "    plt.plot(range(1, EPOCHS + 1), h[\"val_acc\"], label=name, marker=\"o\")\n",
    "\n",
    "plt.xlabel(\"Epoch\")\n",
    "plt.ylabel(\"Validation Accuracy\")\n",
    "plt.title(\"Optimizer Demo: Validation Accuracy\")\n",
    "plt.legend()\n",
    "plt.grid(True)\n",
    "plt.show()"
   ]
  },
  {
   "cell_type": "code",
   "execution_count": 13,
   "metadata": {},
   "outputs": [
    {
     "name": "stdout",
     "output_type": "stream",
     "text": [
      "Best optimizer by validation accuracy: SGD\n",
      "\n",
      "Training final model...\n",
      "\n",
      "Final Test Accuracy with SGD: 0.9717\n"
     ]
    }
   ],
   "source": [
    "# Find the best optimizer based on the highest validation accuracy\n",
    "best_name = max(histories.keys(), key=lambda n: max(histories[n][\"val_acc\"]))\n",
    "print(f\"Best optimizer by validation accuracy: {best_name.upper()}\")\n",
    "\n",
    "# Retrain the model with the best optimizer and evaluate on the test set\n",
    "print(\"\\nTraining final model...\")\n",
    "set_seed(1234)\n",
    "best_model = make_fresh_model()\n",
    "best_opt = make_optimizer(best_name, best_model.parameters())\n",
    "\n",
    "for epoch in range(EPOCHS):\n",
    "    train_one_epoch(best_model, train_loader, criterion, best_opt, device)\n",
    "\n",
    "# Final evaluation on the unseen test set\n",
    "test_loss, test_acc = evaluate(best_model, test_loader, criterion, device)\n",
    "print(f\"\\nFinal Test Accuracy with {best_name.upper()}: {test_acc:.4f}\")"
   ]
  },
  {
   "cell_type": "markdown",
   "metadata": {},
   "source": [
    "<br /><br /><br /><br /><br /><br /><br /><br /><br />"
   ]
  }
 ],
 "metadata": {
  "kernelspec": {
   "display_name": "Python 3 (ipykernel)",
   "language": "python",
   "name": "python3"
  },
  "language_info": {
   "codemirror_mode": {
    "name": "ipython",
    "version": 3
   },
   "file_extension": ".py",
   "mimetype": "text/x-python",
   "name": "python",
   "nbconvert_exporter": "python",
   "pygments_lexer": "ipython3",
   "version": "3.13.0"
  }
 },
 "nbformat": 4,
 "nbformat_minor": 4
}
